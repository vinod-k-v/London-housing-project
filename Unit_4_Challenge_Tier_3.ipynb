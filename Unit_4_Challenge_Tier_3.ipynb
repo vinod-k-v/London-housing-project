{
 "cells": [
  {
   "cell_type": "markdown",
   "metadata": {
    "colab_type": "text",
    "id": "view-in-github"
   },
   "source": [
    "<a href=\"https://colab.research.google.com/github/vinod-k-v/London-housing-project/blob/main/Unit_4_Challenge_Tier_3.ipynb\" target=\"_parent\"><img src=\"https://colab.research.google.com/assets/colab-badge.svg\" alt=\"Open In Colab\"/></a>"
   ]
  },
  {
   "cell_type": "markdown",
   "metadata": {
    "id": "Tia3MP1SJpgj"
   },
   "source": [
    "# Springboard Data Science Career Track Unit 4 Challenge - Tier 3 Complete\n",
    "\n",
    "## Objectives\n",
    "Hey! Great job getting through those challenging DataCamp courses. You're learning a lot in a short span of time. \n",
    "\n",
    "In this notebook, you're going to apply the skills you've been learning, bridging the gap between the controlled environment of DataCamp and the *slightly* messier work that data scientists do with actual datasets!\n",
    "\n",
    "Here’s the mystery we’re going to solve: ***which boroughs of London have seen the greatest increase in housing prices, on average, over the last two decades?***\n",
    "\n",
    "\n",
    "A borough is just a fancy word for district. You may be familiar with the five boroughs of New York… well, there are 32 boroughs within Greater London [(here's some info for the curious)](https://en.wikipedia.org/wiki/London_boroughs). Some of them are more desirable areas to live in, and the data will reflect that with a greater rise in housing prices.\n",
    "\n",
    "***This is the Tier 3 notebook, which means it's not filled in at all: we'll just give you the skeleton of a project, the brief and the data. It's up to you to play around with it and see what you can find out! Good luck! If you struggle, feel free to look at easier tiers for help; but try to dip in and out of them, as the more independent work you do, the better it is for your learning!***\n",
    "\n",
    "This challenge will make use of only what you learned in the following DataCamp courses: \n",
    "- Prework courses (Introduction to Python for Data Science, Intermediate Python for Data Science)\n",
    "- Data Types for Data Science\n",
    "- Python Data Science Toolbox (Part One) \n",
    "- pandas Foundations\n",
    "- Manipulating DataFrames with pandas\n",
    "- Merging DataFrames with pandas\n",
    "\n",
    "Of the tools, techniques and concepts in the above DataCamp courses, this challenge should require the application of the following: \n",
    "- **pandas**\n",
    "    - **data ingestion and inspection** (pandas Foundations, Module One) \n",
    "    - **exploratory data analysis** (pandas Foundations, Module Two)\n",
    "    - **tidying and cleaning** (Manipulating DataFrames with pandas, Module Three) \n",
    "    - **transforming DataFrames** (Manipulating DataFrames with pandas, Module One)\n",
    "    - **subsetting DataFrames with lists** (Manipulating DataFrames with pandas, Module One) \n",
    "    - **filtering DataFrames** (Manipulating DataFrames with pandas, Module One) \n",
    "    - **grouping data** (Manipulating DataFrames with pandas, Module Four) \n",
    "    - **melting data** (Manipulating DataFrames with pandas, Module Three) \n",
    "    - **advanced indexing** (Manipulating DataFrames with pandas, Module Four) \n",
    "- **matplotlib** (Intermediate Python for Data Science, Module One)\n",
    "- **fundamental data types** (Data Types for Data Science, Module One) \n",
    "- **dictionaries** (Intermediate Python for Data Science, Module Two)\n",
    "- **handling dates and times** (Data Types for Data Science, Module Four)\n",
    "- **function definition** (Python Data Science Toolbox - Part One, Module One)\n",
    "- **default arguments, variable length, and scope** (Python Data Science Toolbox - Part One, Module Two) \n",
    "- **lambda functions and error handling** (Python Data Science Toolbox - Part One, Module Four) "
   ]
  },
  {
   "cell_type": "markdown",
   "metadata": {
    "id": "Ipgd2nV8Jpgl"
   },
   "source": [
    "## The Data Science Pipeline\n",
    "\n",
    "This is Tier Three, so we'll get you started. But after that, it's all in your hands! When you feel done with your investigations, look back over what you've accomplished, and prepare a quick presentation of your findings for the next mentor meeting. \n",
    "\n",
    "Data Science is magical. In this case study, you'll get to apply some complex machine learning algorithms. But as  [David Spiegelhalter](https://www.youtube.com/watch?v=oUs1uvsz0Ok) reminds us, there is no substitute for simply **taking a really, really good look at the data.** Sometimes, this is all we need to answer our question.\n",
    "\n",
    "Data Science projects generally adhere to the four stages of Data Science Pipeline:\n",
    "1. Sourcing and loading \n",
    "2. Cleaning, transforming, and visualizing \n",
    "3. Modeling \n",
    "4. Evaluating and concluding \n"
   ]
  },
  {
   "cell_type": "markdown",
   "metadata": {
    "id": "zswDqbefJpgm"
   },
   "source": [
    "### 1. Sourcing and Loading \n",
    "\n",
    "Any Data Science project kicks off by importing  ***pandas***. The documentation of this wonderful library can be found [here](https://pandas.pydata.org/). As you've seen, pandas is conveniently connected to the [Numpy](http://www.numpy.org/) and [Matplotlib](https://matplotlib.org/) libraries. \n",
    "\n",
    "***Hint:*** This part of the data science pipeline will test those skills you acquired in the pandas Foundations course, Module One. "
   ]
  },
  {
   "cell_type": "markdown",
   "metadata": {
    "id": "aEau5nEvJpgm"
   },
   "source": [
    "#### 1.1. Importing Libraries"
   ]
  },
  {
   "cell_type": "code",
   "execution_count": 1,
   "metadata": {
    "id": "7Bt_Q_oPJpgn"
   },
   "outputs": [],
   "source": [
    "# Let's import the pandas, numpy libraries as pd, and np respectively. \n",
    "import pandas as pd\n",
    "\n",
    "# Load the pyplot collection of functions from matplotlib, as plt \n",
    "import matplotlib.pyplot as plt"
   ]
  },
  {
   "cell_type": "markdown",
   "metadata": {
    "id": "koUrawxsJpgq"
   },
   "source": [
    "#### 1.2.  Loading the data\n",
    "Your data comes from the [London Datastore](https://data.london.gov.uk/): a free, open-source data-sharing portal for London-oriented datasets. "
   ]
  },
  {
   "cell_type": "code",
   "execution_count": 2,
   "metadata": {
    "id": "AiLiD4v3Jpgr"
   },
   "outputs": [],
   "source": [
    "# First, make a variable called url_LondonHousePrices, and assign it the following link, enclosed in quotation-marks as a string:\n",
    "# https://data.london.gov.uk/download/uk-house-price-index/70ac0766-8902-4eb5-aab5-01951aaed773/UK%20House%20price%20index.xls\n",
    "\n",
    "url_LondonHousePrices = \"https://data.london.gov.uk/download/uk-house-price-index/70ac0766-8902-4eb5-aab5-01951aaed773/UK%20House%20price%20index.xls\"\n",
    "\n",
    "# The dataset we're interested in contains the Average prices of the houses, and is actually on a particular sheet of the Excel file. \n",
    "# As a result, we need to specify the sheet name in the read_excel() method.\n",
    "# Put this data into a variable called properties.  \n",
    "properties = pd.read_excel(url_LondonHousePrices, sheet_name='Average price', index_col= None)"
   ]
  },
  {
   "cell_type": "markdown",
   "metadata": {
    "id": "POukEJXgJpgu"
   },
   "source": [
    "### 2. Cleaning, transforming, and visualizing\n",
    "This second stage is arguably the most important part of any Data Science project. The first thing to do is take a proper look at the data. Cleaning forms the majority of this stage, and can be done both before or after Transformation.\n",
    "\n",
    "The end goal of data cleaning is to have tidy data. When data is tidy: \n",
    "\n",
    "1. Each variable has a column.\n",
    "2. Each observation forms a row.\n",
    "\n",
    "Keep the end goal in mind as you move through this process, every step will take you closer. \n",
    "\n",
    "\n",
    "\n",
    "***Hint:*** This part of the data science pipeline should test those skills you acquired in: \n",
    "- Intermediate Python for data science, all modules.\n",
    "- pandas Foundations, all modules. \n",
    "- Manipulating DataFrames with pandas, all modules.\n",
    "- Data Types for Data Science, Module Four.\n",
    "- Python Data Science Toolbox - Part One, all modules"
   ]
  },
  {
   "cell_type": "markdown",
   "metadata": {
    "id": "Te0Q548tnzZa"
   },
   "source": [
    "**2.1. Exploring your data** \n",
    "\n",
    "Think about your pandas functions for checking out a dataframe. "
   ]
  },
  {
   "cell_type": "code",
   "execution_count": 3,
   "metadata": {
    "colab": {
     "base_uri": "https://localhost:8080/"
    },
    "id": "Rxirxw_qoAJa",
    "outputId": "f7578cdc-a597-4c46-8ac3-23dcc34ffe92"
   },
   "outputs": [
    {
     "name": "stdout",
     "output_type": "stream",
     "text": [
      "PRINTING PROPERTIES INFO: \n",
      "<class 'pandas.core.frame.DataFrame'>\n",
      "RangeIndex: 316 entries, 0 to 315\n",
      "Data columns (total 49 columns):\n",
      " #   Column                Non-Null Count  Dtype         \n",
      "---  ------                --------------  -----         \n",
      " 0   Unnamed: 0            315 non-null    datetime64[ns]\n",
      " 1   City of London        316 non-null    object        \n",
      " 2   Barking & Dagenham    316 non-null    object        \n",
      " 3   Barnet                316 non-null    object        \n",
      " 4   Bexley                316 non-null    object        \n",
      " 5   Brent                 316 non-null    object        \n",
      " 6   Bromley               316 non-null    object        \n",
      " 7   Camden                316 non-null    object        \n",
      " 8   Croydon               316 non-null    object        \n",
      " 9   Ealing                316 non-null    object        \n",
      " 10  Enfield               316 non-null    object        \n",
      " 11  Greenwich             316 non-null    object        \n",
      " 12  Hackney               316 non-null    object        \n",
      " 13  Hammersmith & Fulham  316 non-null    object        \n",
      " 14  Haringey              316 non-null    object        \n",
      " 15  Harrow                316 non-null    object        \n",
      " 16  Havering              316 non-null    object        \n",
      " 17  Hillingdon            316 non-null    object        \n",
      " 18  Hounslow              316 non-null    object        \n",
      " 19  Islington             316 non-null    object        \n",
      " 20  Kensington & Chelsea  316 non-null    object        \n",
      " 21  Kingston upon Thames  316 non-null    object        \n",
      " 22  Lambeth               316 non-null    object        \n",
      " 23  Lewisham              316 non-null    object        \n",
      " 24  Merton                316 non-null    object        \n",
      " 25  Newham                316 non-null    object        \n",
      " 26  Redbridge             316 non-null    object        \n",
      " 27  Richmond upon Thames  316 non-null    object        \n",
      " 28  Southwark             316 non-null    object        \n",
      " 29  Sutton                316 non-null    object        \n",
      " 30  Tower Hamlets         316 non-null    object        \n",
      " 31  Waltham Forest        316 non-null    object        \n",
      " 32  Wandsworth            316 non-null    object        \n",
      " 33  Westminster           316 non-null    object        \n",
      " 34  Unnamed: 34           0 non-null      float64       \n",
      " 35  Inner London          316 non-null    object        \n",
      " 36  Outer London          316 non-null    object        \n",
      " 37  Unnamed: 37           0 non-null      float64       \n",
      " 38  NORTH EAST            316 non-null    object        \n",
      " 39  NORTH WEST            316 non-null    object        \n",
      " 40  YORKS & THE HUMBER    316 non-null    object        \n",
      " 41  EAST MIDLANDS         316 non-null    object        \n",
      " 42  WEST MIDLANDS         316 non-null    object        \n",
      " 43  EAST OF ENGLAND       316 non-null    object        \n",
      " 44  LONDON                316 non-null    object        \n",
      " 45  SOUTH EAST            316 non-null    object        \n",
      " 46  SOUTH WEST            316 non-null    object        \n",
      " 47  Unnamed: 47           0 non-null      float64       \n",
      " 48  England               316 non-null    object        \n",
      "dtypes: datetime64[ns](1), float64(3), object(45)\n",
      "memory usage: 121.1+ KB\n",
      "None\n",
      "\n",
      "\n",
      "PRINTING PROPERTIES HEAD: \n",
      "  Unnamed: 0 City of London Barking & Dagenham       Barnet       Bexley  \\\n",
      "0        NaT      E09000001          E09000002    E09000003    E09000004   \n",
      "1 1995-01-01    91448.98487         50460.2266  93284.51832  64958.09036   \n",
      "2 1995-02-01    82202.77314        51085.77983  93190.16963  64787.92069   \n",
      "3 1995-03-01    79120.70256        51268.96956  92247.52435  64367.49344   \n",
      "4 1995-04-01    77101.20804        53133.50526  90762.87492  64277.66881   \n",
      "\n",
      "         Brent      Bromley       Camden      Croydon       Ealing  ...  \\\n",
      "0    E09000005    E09000006    E09000007    E09000008    E09000009  ...   \n",
      "1  71306.56698  81671.47692  120932.8881  69158.16225  79885.89069  ...   \n",
      "2  72022.26197  81657.55944  119508.8622  68951.09542  80897.06551  ...   \n",
      "3  72015.76274  81449.31143  120282.2131  68712.44341  81379.86288  ...   \n",
      "4  72965.63094  81124.41227   120097.899  68610.04641  82188.90498  ...   \n",
      "\n",
      "    NORTH WEST YORKS & THE HUMBER EAST MIDLANDS WEST MIDLANDS EAST OF ENGLAND  \\\n",
      "0    E12000002          E12000003     E12000004     E12000005       E12000006   \n",
      "1  43958.48001        44803.42878   45544.52227   48527.52339      56701.5961   \n",
      "2  43925.42289        44528.80721   46051.57066   49341.29029     56593.59475   \n",
      "3   44434.8681        45200.46775   45383.82395   49442.17973     56171.18278   \n",
      "4   44267.7796        45614.34341   46124.23045   49455.93299     56567.89582   \n",
      "\n",
      "        LONDON   SOUTH EAST   SOUTH WEST Unnamed: 47      England  \n",
      "0    E12000007    E12000008    E12000009         NaN    E92000001  \n",
      "1  74435.76052  64018.87894   54705.1579         NaN  53202.77128  \n",
      "2  72777.93709  63715.02399  54356.14843         NaN   53096.1549  \n",
      "3  73896.84204  64113.60858  53583.07667         NaN   53201.2843  \n",
      "4  74455.28754  64623.22395  54786.01938         NaN   53590.8548  \n",
      "\n",
      "[5 rows x 49 columns]\n",
      "\n",
      "\n",
      "PRINTING PROPERTIES DESCRIBE: \n",
      "       Unnamed: 34  Unnamed: 37  Unnamed: 47\n",
      "count          0.0          0.0          0.0\n",
      "mean           NaN          NaN          NaN\n",
      "std            NaN          NaN          NaN\n",
      "min            NaN          NaN          NaN\n",
      "25%            NaN          NaN          NaN\n",
      "50%            NaN          NaN          NaN\n",
      "75%            NaN          NaN          NaN\n",
      "max            NaN          NaN          NaN\n",
      "\n",
      "\n",
      "PRINTING PROPERTIES SHAPE: \n",
      "(316, 49)\n",
      "\n",
      "\n",
      "PRINTING PROPERTIES INDEX: \n",
      "RangeIndex(start=0, stop=316, step=1)\n",
      "\n",
      "\n",
      "PRINTING PROPERTIES COLUMNS: \n",
      "Index(['Unnamed: 0', 'City of London', 'Barking & Dagenham', 'Barnet',\n",
      "       'Bexley', 'Brent', 'Bromley', 'Camden', 'Croydon', 'Ealing', 'Enfield',\n",
      "       'Greenwich', 'Hackney', 'Hammersmith & Fulham', 'Haringey', 'Harrow',\n",
      "       'Havering', 'Hillingdon', 'Hounslow', 'Islington',\n",
      "       'Kensington & Chelsea', 'Kingston upon Thames', 'Lambeth', 'Lewisham',\n",
      "       'Merton', 'Newham', 'Redbridge', 'Richmond upon Thames', 'Southwark',\n",
      "       'Sutton', 'Tower Hamlets', 'Waltham Forest', 'Wandsworth',\n",
      "       'Westminster', 'Unnamed: 34', 'Inner London', 'Outer London',\n",
      "       'Unnamed: 37', 'NORTH EAST', 'NORTH WEST', 'YORKS & THE HUMBER',\n",
      "       'EAST MIDLANDS', 'WEST MIDLANDS', 'EAST OF ENGLAND', 'LONDON',\n",
      "       'SOUTH EAST', 'SOUTH WEST', 'Unnamed: 47', 'England'],\n",
      "      dtype='object')\n",
      "\n",
      "\n",
      "PRINTING PROPERTIES VALUEs: \n",
      "[[NaT 'E09000001' 'E09000002' ... 'E12000009' nan 'E92000001']\n",
      " [Timestamp('1995-01-01 00:00:00') 91448.98487 50460.2266 ... 54705.1579\n",
      "  nan 53202.77128]\n",
      " [Timestamp('1995-02-01 00:00:00') 82202.77314 51085.77983 ...\n",
      "  54356.14843 nan 53096.1549]\n",
      " ...\n",
      " [Timestamp('2021-01-01 00:00:00') 762756.6049 314068.1054 ...\n",
      "  278722.6704 nan 267675.2146]\n",
      " [Timestamp('2021-02-01 00:00:00') 744323.5882 319588.7141 ...\n",
      "  280372.7523 nan 269976.0467]\n",
      " [Timestamp('2021-03-01 00:00:00') 864353.5338 317184.7975 ...\n",
      "  287649.7245 nan 274615.3652]]\n"
     ]
    }
   ],
   "source": [
    "# Looking in to the data.\n",
    "\n",
    "print(\"PRINTING PROPERTIES INFO: \")\n",
    "print(properties.info())\n",
    "print(\"\\n\")\n",
    "\n",
    "print(\"PRINTING PROPERTIES HEAD: \")\n",
    "print(properties.head())\n",
    "print(\"\\n\")\n",
    "# A quick look at the dataframe reveals that there are a total of 49 columns, unnamed columns, NaN values, \n",
    "# column0 are months, all other columns seem to be different boroughs\n",
    "# row0 is different from the other rows. Looks like a unique value for each column of borough. \n",
    "# the values for the columns seem to represent average home prices (monthly)\n",
    "\n",
    "print(\"PRINTING PROPERTIES DESCRIBE: \")\n",
    "print(properties.describe())\n",
    "print(\"\\n\")\n",
    "# There are three numerical columns (all unnamed columns)- 34, 37, 47 with NaN values. Need to drop these columns\n",
    "\n",
    "print(\"PRINTING PROPERTIES SHAPE: \")\n",
    "print(properties.shape)\n",
    "print(\"\\n\")\n",
    "# there are 316 rows and 49 columns\n",
    "\n",
    "print(\"PRINTING PROPERTIES INDEX: \")\n",
    "print(properties.index)\n",
    "print(\"\\n\")\n",
    "# index column is default integers (0,316)\n",
    "\n",
    "print(\"PRINTING PROPERTIES COLUMNS: \")\n",
    "print(properties.columns)\n",
    "print(\"\\n\")\n",
    "# unnamed: 0 represents months, all other 48 columns represents different boroughs (with columns 34, 37, 47 unnamed)\n",
    "\n",
    "print(\"PRINTING PROPERTIES VALUEs: \")\n",
    "print(properties.values)\n",
    "# we can remove row0- doesn't add any value to our analysis.\n",
    "# 1st column is of type Timestamp, all other columns have numerical values (float)"
   ]
  },
  {
   "cell_type": "markdown",
   "metadata": {
    "id": "tE9Sqt9-oAta"
   },
   "source": [
    "**2.2. Cleaning the data**\n",
    "\n",
    "You might find you need to transpose your dataframe, check out what its row indexes are, and reset the index. You  also might find you need to assign the values of the first row to your column headings  . (Hint: recall the .columns feature of DataFrames, as well as the iloc[] method).\n",
    "\n",
    "Don't be afraid to use StackOverflow for help  with this."
   ]
  },
  {
   "cell_type": "markdown",
   "metadata": {
    "id": "o1uLbJAsoIjK"
   },
   "source": [
    "**2.3. Cleaning the data (part 2)**\n",
    "\n",
    "You might we have to **rename** a couple columns. How do you do this? The clue's pretty bold..."
   ]
  },
  {
   "cell_type": "markdown",
   "metadata": {
    "id": "jy8BzXHmoWEw"
   },
   "source": [
    "**2.4.Transforming the data**\n",
    "\n",
    "Remember what Wes McKinney said about tidy data? \n",
    "\n",
    "You might need to **melt** your DataFrame here. "
   ]
  },
  {
   "cell_type": "markdown",
   "metadata": {
    "id": "7kIsgAo7o3mf"
   },
   "source": [
    "Remember to make sure your column data types are all correct. Average prices, for example, should be floating point numbers... "
   ]
  },
  {
   "cell_type": "markdown",
   "metadata": {
    "id": "knLUXHLypOtw"
   },
   "source": [
    "**2.5. Cleaning the data (part 3)**\n",
    "\n",
    "Do we have an equal number of observations in the ID, Average Price, Month, and London Borough columns? Remember that there are only 32 London Boroughs. How many entries do you have in that column? \n",
    "\n",
    "Check out the contents of the London Borough column, and if you find null values, get rid of them however you see fit. "
   ]
  },
  {
   "cell_type": "code",
   "execution_count": 4,
   "metadata": {
    "colab": {
     "base_uri": "https://localhost:8080/"
    },
    "id": "GKkmn1AnoVZS",
    "outputId": "500b7a1c-5171-4e20-f557-f644c3ebf693"
   },
   "outputs": [
    {
     "name": "stdout",
     "output_type": "stream",
     "text": [
      "Index(['Unnamed: 0', 'City of London', 'Barking & Dagenham', 'Barnet',\n",
      "       'Bexley', 'Brent', 'Bromley', 'Camden', 'Croydon', 'Ealing', 'Enfield',\n",
      "       'Greenwich', 'Hackney', 'Hammersmith & Fulham', 'Haringey', 'Harrow',\n",
      "       'Havering', 'Hillingdon', 'Hounslow', 'Islington',\n",
      "       'Kensington & Chelsea', 'Kingston upon Thames', 'Lambeth', 'Lewisham',\n",
      "       'Merton', 'Newham', 'Redbridge', 'Richmond upon Thames', 'Southwark',\n",
      "       'Sutton', 'Tower Hamlets', 'Waltham Forest', 'Wandsworth',\n",
      "       'Westminster', 'Inner London', 'Outer London', 'NORTH EAST',\n",
      "       'NORTH WEST', 'YORKS & THE HUMBER', 'EAST MIDLANDS', 'WEST MIDLANDS',\n",
      "       'EAST OF ENGLAND', 'LONDON', 'SOUTH EAST', 'SOUTH WEST', 'England'],\n",
      "      dtype='object')\n"
     ]
    }
   ],
   "source": [
    "# drop 34, 37, 47 columns\n",
    "properties.drop(properties.columns[[34, 37, 47]], axis = 1, inplace = True)\n",
    "print(properties.columns)"
   ]
  },
  {
   "cell_type": "code",
   "execution_count": 5,
   "metadata": {
    "colab": {
     "base_uri": "https://localhost:8080/"
    },
    "id": "_HTl3zkK7tuN",
    "outputId": "e656b4dc-8018-4d4c-85b3-ebc684d6cf1c"
   },
   "outputs": [
    {
     "name": "stdout",
     "output_type": "stream",
     "text": [
      "Unnamed: 0                    NaT\n",
      "City of London          E09000001\n",
      "Barking & Dagenham      E09000002\n",
      "Barnet                  E09000003\n",
      "Bexley                  E09000004\n",
      "Brent                   E09000005\n",
      "Bromley                 E09000006\n",
      "Camden                  E09000007\n",
      "Croydon                 E09000008\n",
      "Ealing                  E09000009\n",
      "Enfield                 E09000010\n",
      "Greenwich               E09000011\n",
      "Hackney                 E09000012\n",
      "Hammersmith & Fulham    E09000013\n",
      "Haringey                E09000014\n",
      "Harrow                  E09000015\n",
      "Havering                E09000016\n",
      "Hillingdon              E09000017\n",
      "Hounslow                E09000018\n",
      "Islington               E09000019\n",
      "Kensington & Chelsea    E09000020\n",
      "Kingston upon Thames    E09000021\n",
      "Lambeth                 E09000022\n",
      "Lewisham                E09000023\n",
      "Merton                  E09000024\n",
      "Newham                  E09000025\n",
      "Redbridge               E09000026\n",
      "Richmond upon Thames    E09000027\n",
      "Southwark               E09000028\n",
      "Sutton                  E09000029\n",
      "Tower Hamlets           E09000030\n",
      "Waltham Forest          E09000031\n",
      "Wandsworth              E09000032\n",
      "Westminster             E09000033\n",
      "Inner London            E13000001\n",
      "Outer London            E13000002\n",
      "NORTH EAST              E12000001\n",
      "NORTH WEST              E12000002\n",
      "YORKS & THE HUMBER      E12000003\n",
      "EAST MIDLANDS           E12000004\n",
      "WEST MIDLANDS           E12000005\n",
      "EAST OF ENGLAND         E12000006\n",
      "LONDON                  E12000007\n",
      "SOUTH EAST              E12000008\n",
      "SOUTH WEST              E12000009\n",
      "England                 E92000001\n",
      "Name: 0, dtype: object\n"
     ]
    }
   ],
   "source": [
    "print(properties.iloc[0])"
   ]
  },
  {
   "cell_type": "code",
   "execution_count": 6,
   "metadata": {
    "colab": {
     "base_uri": "https://localhost:8080/"
    },
    "id": "0NSirtVT5wTI",
    "outputId": "e1bff264-52f5-4b32-b3bd-af64aacc8281"
   },
   "outputs": [
    {
     "name": "stdout",
     "output_type": "stream",
     "text": [
      "Index(['Unnamed: 0', 'City Of London', 'Barking & Dagenham', 'Barnet',\n",
      "       'Bexley', 'Brent', 'Bromley', 'Camden', 'Croydon', 'Ealing', 'Enfield',\n",
      "       'Greenwich', 'Hackney', 'Hammersmith & Fulham', 'Haringey', 'Harrow',\n",
      "       'Havering', 'Hillingdon', 'Hounslow', 'Islington',\n",
      "       'Kensington & Chelsea', 'Kingston Upon Thames', 'Lambeth', 'Lewisham',\n",
      "       'Merton', 'Newham', 'Redbridge', 'Richmond Upon Thames', 'Southwark',\n",
      "       'Sutton', 'Tower Hamlets', 'Waltham Forest', 'Wandsworth',\n",
      "       'Westminster', 'Inner London', 'Outer London', 'North East',\n",
      "       'North West', 'Yorks & The Humber', 'East Midlands', 'West Midlands',\n",
      "       'East Of England', 'London', 'South East', 'South West', 'England'],\n",
      "      dtype='object')\n"
     ]
    }
   ],
   "source": [
    "# rename column names to title style\n",
    "properties.columns = [x.title() for x in properties.columns]\n",
    "print(properties.columns)"
   ]
  },
  {
   "cell_type": "code",
   "execution_count": 7,
   "metadata": {
    "colab": {
     "base_uri": "https://localhost:8080/"
    },
    "id": "dvRcqKS88w7q",
    "outputId": "d299251a-6f0c-4a33-b221-09ffc766001a"
   },
   "outputs": [
    {
     "name": "stdout",
     "output_type": "stream",
     "text": [
      "                          0                    1                    2    \\\n",
      "Unnamed: 0                NaT  1995-01-01 00:00:00  1995-02-01 00:00:00   \n",
      "City Of London      E09000001          91448.98487          82202.77314   \n",
      "Barking & Dagenham  E09000002           50460.2266          51085.77983   \n",
      "Barnet              E09000003          93284.51832          93190.16963   \n",
      "Bexley              E09000004          64958.09036          64787.92069   \n",
      "\n",
      "                                    3                    4    \\\n",
      "Unnamed: 0          1995-03-01 00:00:00  1995-04-01 00:00:00   \n",
      "City Of London              79120.70256          77101.20804   \n",
      "Barking & Dagenham          51268.96956          53133.50526   \n",
      "Barnet                      92247.52435          90762.87492   \n",
      "Bexley                      64367.49344          64277.66881   \n",
      "\n",
      "                                    5                    6    \\\n",
      "Unnamed: 0          1995-05-01 00:00:00  1995-06-01 00:00:00   \n",
      "City Of London              84409.14932          94900.51244   \n",
      "Barking & Dagenham          53042.24852          53700.34831   \n",
      "Barnet                      90258.00033          90107.23471   \n",
      "Bexley                      63997.13588          64252.32335   \n",
      "\n",
      "                                    7                    8    \\\n",
      "Unnamed: 0          1995-07-01 00:00:00  1995-08-01 00:00:00   \n",
      "City Of London              110128.0423          112329.4376   \n",
      "Barking & Dagenham          52113.12157          52232.19868   \n",
      "Barnet                      91441.24768          92361.31512   \n",
      "Bexley                      63722.70055          64432.60005   \n",
      "\n",
      "                                    9    ...                  306  \\\n",
      "Unnamed: 0          1995-09-01 00:00:00  ...  2020-06-01 00:00:00   \n",
      "City Of London              104473.1096  ...          882872.1038   \n",
      "Barking & Dagenham          51471.61353  ...          300526.2859   \n",
      "Barnet                      93273.12245  ...          518175.0457   \n",
      "Bexley                      64509.54767  ...          340893.0807   \n",
      "\n",
      "                                    307                  308  \\\n",
      "Unnamed: 0          2020-07-01 00:00:00  2020-08-01 00:00:00   \n",
      "City Of London              786626.6665          827658.5167   \n",
      "Barking & Dagenham          304555.5886          304923.5027   \n",
      "Barnet                      523279.8903          529660.1524   \n",
      "Bexley                      344091.2308          346679.9244   \n",
      "\n",
      "                                    309                  310  \\\n",
      "Unnamed: 0          2020-09-01 00:00:00  2020-10-01 00:00:00   \n",
      "City Of London              798499.1646          825741.8194   \n",
      "Barking & Dagenham          301702.4656          304763.6014   \n",
      "Barnet                        533619.23          529762.3013   \n",
      "Bexley                      345061.4945          345458.6847   \n",
      "\n",
      "                                    311                  312  \\\n",
      "Unnamed: 0          2020-11-01 00:00:00  2020-12-01 00:00:00   \n",
      "City Of London              770971.9595          794277.0501   \n",
      "Barking & Dagenham          305052.8104          310281.2864   \n",
      "Barnet                      530930.9087          533160.1771   \n",
      "Bexley                      347115.9985          353710.4793   \n",
      "\n",
      "                                    313                  314  \\\n",
      "Unnamed: 0          2021-01-01 00:00:00  2021-02-01 00:00:00   \n",
      "City Of London              762756.6049          744323.5882   \n",
      "Barking & Dagenham          314068.1054          319588.7141   \n",
      "Barnet                      541621.6878          536096.0398   \n",
      "Bexley                      358242.6956          361861.3566   \n",
      "\n",
      "                                    315  \n",
      "Unnamed: 0          2021-03-01 00:00:00  \n",
      "City Of London              864353.5338  \n",
      "Barking & Dagenham          317184.7975  \n",
      "Barnet                      534005.4666  \n",
      "Bexley                      367014.6063  \n",
      "\n",
      "[5 rows x 316 columns]\n"
     ]
    }
   ],
   "source": [
    "# let's transpose the dataframe\n",
    "properties = properties.transpose()\n",
    "print(properties.head())"
   ]
  },
  {
   "cell_type": "code",
   "execution_count": 8,
   "metadata": {
    "colab": {
     "base_uri": "https://localhost:8080/"
    },
    "id": "ejoypTXt8x7E",
    "outputId": "3cda4089-ffa7-456b-ac3a-62bdbc864c21"
   },
   "outputs": [
    {
     "data": {
      "text/plain": [
       "157    0\n",
       "214    0\n",
       "213    0\n",
       "212    0\n",
       "211    0\n",
       "      ..\n",
       "102    0\n",
       "101    0\n",
       "100    0\n",
       "107    0\n",
       "0      1\n",
       "Length: 316, dtype: int64"
      ]
     },
     "execution_count": 8,
     "metadata": {},
     "output_type": "execute_result"
    }
   ],
   "source": [
    "# check for any null values\n",
    "properties.isna().sum().sort_values()\n",
    "# only one null value 'NaT'- not a timestamp"
   ]
  },
  {
   "cell_type": "code",
   "execution_count": 9,
   "metadata": {
    "colab": {
     "base_uri": "https://localhost:8080/"
    },
    "id": "CS1xPajw9Y1P",
    "outputId": "b062454c-b371-4916-988f-2ae4ac90631c"
   },
   "outputs": [
    {
     "name": "stdout",
     "output_type": "stream",
     "text": [
      "id\n"
     ]
    }
   ],
   "source": [
    "# fill NaT with id\n",
    "properties.fillna('id', inplace=True)\n",
    "print(properties.iloc[0,0])"
   ]
  },
  {
   "cell_type": "code",
   "execution_count": 10,
   "metadata": {
    "colab": {
     "base_uri": "https://localhost:8080/"
    },
    "id": "kQ-NhT2G9rpy",
    "outputId": "deb8b474-08c2-477a-ddc8-43bcd031e211"
   },
   "outputs": [
    {
     "name": "stdout",
     "output_type": "stream",
     "text": [
      "Index(['id', '1995-1', '1995-2', '1995-3', '1995-4', '1995-5', '1995-6',\n",
      "       '1995-7', '1995-8', '1995-9',\n",
      "       ...\n",
      "       '2020-6', '2020-7', '2020-8', '2020-9', '2020-10', '2020-11', '2020-12',\n",
      "       '2021-1', '2021-2', '2021-3'],\n",
      "      dtype='object', length=316)\n"
     ]
    }
   ],
   "source": [
    "# replace dates with only year and month\n",
    "properties.iloc[0,1:] = [str(x.year)+'-'+str(x.month) for x in properties.iloc[0,1:]] \n",
    "# convert row0 to columns\n",
    "properties.columns = properties.iloc[0]\n",
    "# rename column axis to none\n",
    "properties.rename_axis(None, axis=1, inplace=True)\n",
    "print(properties.columns)"
   ]
  },
  {
   "cell_type": "code",
   "execution_count": 11,
   "metadata": {
    "colab": {
     "base_uri": "https://localhost:8080/"
    },
    "id": "FcJgLVoiEp4J",
    "outputId": "ee00bf21-9e6d-4993-ad64-d7f9c52abd77"
   },
   "outputs": [
    {
     "name": "stdout",
     "output_type": "stream",
     "text": [
      "                           id       1995-1       1995-2       1995-3  \\\n",
      "Unnamed: 0                 id       1995-1       1995-2       1995-3   \n",
      "Barking & Dagenham  E09000002   50460.2266  51085.77983  51268.96956   \n",
      "Barnet              E09000003  93284.51832  93190.16963  92247.52435   \n",
      "Bexley              E09000004  64958.09036  64787.92069  64367.49344   \n",
      "Brent               E09000005  71306.56698  72022.26197  72015.76274   \n",
      "\n",
      "                         1995-4       1995-5       1995-6       1995-7  \\\n",
      "Unnamed: 0               1995-4       1995-5       1995-6       1995-7   \n",
      "Barking & Dagenham  53133.50526  53042.24852  53700.34831  52113.12157   \n",
      "Barnet              90762.87492  90258.00033  90107.23471  91441.24768   \n",
      "Bexley              64277.66881  63997.13588  64252.32335  63722.70055   \n",
      "Brent               72965.63094  73704.04743  74310.48167  74127.03788   \n",
      "\n",
      "                         1995-8       1995-9  ...       2020-6       2020-7  \\\n",
      "Unnamed: 0               1995-8       1995-9  ...       2020-6       2020-7   \n",
      "Barking & Dagenham  52232.19868  51471.61353  ...  300526.2859  304555.5886   \n",
      "Barnet              92361.31512  93273.12245  ...  518175.0457  523279.8903   \n",
      "Bexley              64432.60005  64509.54767  ...  340893.0807  344091.2308   \n",
      "Brent                73547.0411  73789.54287  ...  484159.9118  482303.0931   \n",
      "\n",
      "                         2020-8       2020-9      2020-10      2020-11  \\\n",
      "Unnamed: 0               2020-8       2020-9      2020-10      2020-11   \n",
      "Barking & Dagenham  304923.5027  301702.4656  304763.6014  305052.8104   \n",
      "Barnet              529660.1524    533619.23  529762.3013  530930.9087   \n",
      "Bexley              346679.9244  345061.4945  345458.6847  347115.9985   \n",
      "Brent               497729.0327  519561.8277  521251.3469  512271.0532   \n",
      "\n",
      "                        2020-12       2021-1       2021-2       2021-3  \n",
      "Unnamed: 0              2020-12       2021-1       2021-2       2021-3  \n",
      "Barking & Dagenham  310281.2864  314068.1054  319588.7141  317184.7975  \n",
      "Barnet              533160.1771  541621.6878  536096.0398  534005.4666  \n",
      "Bexley              353710.4793  358242.6956  361861.3566  367014.6063  \n",
      "Brent                 495230.52  508184.2874   513426.445  510532.7941  \n",
      "\n",
      "[5 rows x 316 columns]\n",
      "                             id       1995-1       1995-2       1995-3  \\\n",
      "Barking & Dagenham    E09000002   50460.2266  51085.77983  51268.96956   \n",
      "Barnet                E09000003  93284.51832  93190.16963  92247.52435   \n",
      "Bexley                E09000004  64958.09036  64787.92069  64367.49344   \n",
      "Brent                 E09000005  71306.56698  72022.26197  72015.76274   \n",
      "Bromley               E09000006  81671.47692  81657.55944  81449.31143   \n",
      "Camden                E09000007  120932.8881  119508.8622  120282.2131   \n",
      "Croydon               E09000008  69158.16225  68951.09542  68712.44341   \n",
      "Ealing                E09000009  79885.89069  80897.06551  81379.86288   \n",
      "Enfield               E09000010  72514.69096  73155.19746  72190.44144   \n",
      "Greenwich             E09000011  62300.10169  60993.26863  61377.83464   \n",
      "Hackney               E09000012  61296.52637  63187.08332  63593.29935   \n",
      "Hammersmith & Fulham  E09000013  124902.8602   122087.718  120635.9467   \n",
      "Haringey              E09000014  76287.56947  78901.21036  78521.94855   \n",
      "Harrow                E09000015  84769.52599  83396.10525  83416.23759   \n",
      "Havering              E09000016  68000.13774  69393.51294  69368.02407   \n",
      "Hillingdon            E09000017  73834.82964   75031.0696  74188.66949   \n",
      "Hounslow              E09000018  72231.70537  71051.55852  72097.99411   \n",
      "Islington             E09000019  92516.48557  94342.37334  93465.86407   \n",
      "Kensington & Chelsea  E09000020  182694.8326  182345.2463  182878.8231   \n",
      "Kingston Upon Thames  E09000021  80875.84843  81230.13524  81111.48848   \n",
      "Lambeth               E09000022  67770.98843  65381.51908  66336.51868   \n",
      "Lewisham              E09000023  60491.26109  60869.27091  60288.03002   \n",
      "Merton                E09000024   82070.6133  79982.74872  80661.68279   \n",
      "Newham                E09000025  53539.31919  53153.88306  53458.26393   \n",
      "Redbridge             E09000026  72189.58437   72141.6261  72501.35502   \n",
      "Richmond Upon Thames  E09000027  109326.1245  111103.0394  107325.4742   \n",
      "Southwark             E09000028  67885.20344   64799.0648  65763.29719   \n",
      "Sutton                E09000029  71536.97357  70893.20851  70306.83844   \n",
      "Tower Hamlets         E09000030  59865.18995  62318.53353  63938.67686   \n",
      "Waltham Forest        E09000031  61319.44913  60252.12246  60871.08493   \n",
      "Wandsworth            E09000032  88559.04381  88641.01678  87124.81523   \n",
      "Westminster           E09000033  133025.2772  131468.3096  132260.3417   \n",
      "\n",
      "                           1995-4       1995-5       1995-6       1995-7  \\\n",
      "Barking & Dagenham    53133.50526  53042.24852  53700.34831  52113.12157   \n",
      "Barnet                90762.87492  90258.00033  90107.23471  91441.24768   \n",
      "Bexley                64277.66881  63997.13588  64252.32335  63722.70055   \n",
      "Brent                 72965.63094  73704.04743  74310.48167  74127.03788   \n",
      "Bromley               81124.41227  81542.61561  82382.83435  82898.52264   \n",
      "Camden                 120097.899  119929.2782  121887.4625  124027.5768   \n",
      "Croydon               68610.04641   68844.9169  69052.51103  69142.48112   \n",
      "Ealing                82188.90498  82077.05525  81630.66181   82352.2226   \n",
      "Enfield               71442.92235  70630.77955  71348.31147  71837.54011   \n",
      "Greenwich              61927.7246  63512.99103  64751.56404  65486.34112   \n",
      "Hackney               65139.64403  66193.99212  66921.17101    68390.753   \n",
      "Hammersmith & Fulham  121424.6241   124433.539  126175.1513  124381.5134   \n",
      "Haringey              79545.57477   79374.0349   79956.3621  80746.34881   \n",
      "Harrow                83567.88439  83853.65615  84173.24689  84226.69844   \n",
      "Havering              69444.26215  68534.52248  68464.60664  68680.83996   \n",
      "Hillingdon            73911.40591  73117.12416  74005.00585  74671.13263   \n",
      "Hounslow              71890.28339  72877.47219  72331.08116  73717.78844   \n",
      "Islington             93344.49305  94346.39917  97428.94311  98976.14077   \n",
      "Kensington & Chelsea  184176.9168  191474.1141  197265.7602  197963.3169   \n",
      "Kingston Upon Thames  81672.80476  82123.51084  82205.66822    82525.793   \n",
      "Lambeth                66388.7716  69035.11076  68881.15764  69608.72242   \n",
      "Lewisham              59471.03136  58551.38387  58041.43543  58126.37811   \n",
      "Merton                79990.54333  80873.98643  80704.92667  81055.90335   \n",
      "Newham                54479.75395  55803.95958  56067.76986  55458.31693   \n",
      "Redbridge             72228.60295  72366.64122   72279.4325  72880.83974   \n",
      "Richmond Upon Thames       106875  107707.6799  112865.0542  114656.6011   \n",
      "Southwark             63073.62117  64420.49933  64155.81449  67024.74767   \n",
      "Sutton                 69411.9439  69759.21989  70125.24728  70789.57284   \n",
      "Tower Hamlets         66233.19383  66432.85846  66232.16372  64692.22672   \n",
      "Waltham Forest        60971.39722  61494.16938  61547.79643  61933.52738   \n",
      "Wandsworth            87026.00225  86518.05945   88114.3351  89830.58934   \n",
      "Westminster           133370.2036  133911.1117  134562.1941  133450.2162   \n",
      "\n",
      "                           1995-8       1995-9  ...       2020-6       2020-7  \\\n",
      "Barking & Dagenham    52232.19868  51471.61353  ...  300526.2859  304555.5886   \n",
      "Barnet                92361.31512  93273.12245  ...  518175.0457  523279.8903   \n",
      "Bexley                64432.60005  64509.54767  ...  340893.0807  344091.2308   \n",
      "Brent                  73547.0411  73789.54287  ...  484159.9118  482303.0931   \n",
      "Bromley               82054.37156  81440.43008  ...  425444.1926  428557.2475   \n",
      "Camden                125529.8039  120596.8511  ...  837718.8375  807904.3593   \n",
      "Croydon               68993.42545  69393.50023  ...  372413.7578  377278.4015   \n",
      "Ealing                82706.65927  82011.08271  ...  463423.6569  466117.1379   \n",
      "Enfield               72237.94562  71725.22104  ...  385347.4851  386064.7204   \n",
      "Greenwich             65076.43195  63996.81525  ...   387217.703  386101.2206   \n",
      "Hackney               68096.79385  68752.50284  ...  571464.3811  584128.3138   \n",
      "Hammersmith & Fulham  123625.3196  123094.0484  ...  718768.3367  748436.6942   \n",
      "Haringey              81217.69074  82142.89052  ...   546375.636  547777.8493   \n",
      "Harrow                84430.61796  83606.97863  ...  441942.1538   445805.319   \n",
      "Havering              69023.36482    68108.186  ...  371147.6294  373192.0561   \n",
      "Hillingdon            74967.86534  73843.55239  ...  403039.4927  408572.9547   \n",
      "Hounslow              74479.94802   74426.6609  ...  394693.4323  394813.4581   \n",
      "Islington             98951.20791  99582.63778  ...  641491.7384  656970.6723   \n",
      "Kensington & Chelsea  198037.4218  197047.8333  ...  1300968.375  1321046.625   \n",
      "Kingston Upon Thames  83342.84552  85110.96835  ...  478539.6609   484774.953   \n",
      "Lambeth               68840.02827  70155.81997  ...  520302.7685  538635.0375   \n",
      "Lewisham               58151.3154  58742.99034  ...  422938.6652  422336.1904   \n",
      "Merton                80781.09186  80824.70075  ...  519173.5713  524382.9388   \n",
      "Newham                54709.35467  54585.50364  ...  371624.4664  375328.0887   \n",
      "Redbridge             73275.16891  73204.02373  ...  412781.3525  417394.2257   \n",
      "Richmond Upon Thames  112320.4096  110424.5703  ...   701624.763  695227.8373   \n",
      "Southwark             65525.94434  63467.00948  ...  509472.7086  508673.5997   \n",
      "Sutton                69958.41918  69937.40214  ...  371087.8049   373184.064   \n",
      "Tower Hamlets         63472.27558  62177.59435  ...  445196.9908  444565.0852   \n",
      "Waltham Forest         61916.4222  61548.15206  ...  447790.0528  443867.3722   \n",
      "Wandsworth            90560.68078   91373.6984  ...  596641.4874  597440.7879   \n",
      "Westminster           136581.5082  135993.0705  ...  957831.0096  917264.2977   \n",
      "\n",
      "                           2020-8       2020-9      2020-10      2020-11  \\\n",
      "Barking & Dagenham    304923.5027  301702.4656  304763.6014  305052.8104   \n",
      "Barnet                529660.1524    533619.23  529762.3013  530930.9087   \n",
      "Bexley                346679.9244  345061.4945  345458.6847  347115.9985   \n",
      "Brent                 497729.0327  519561.8277  521251.3469  512271.0532   \n",
      "Bromley               433422.5529  435059.5551  438365.9497  446070.0216   \n",
      "Camden                824742.2295   839031.823  826733.3687  818996.7686   \n",
      "Croydon               374029.6601  377322.4452  377155.9086  381267.3768   \n",
      "Ealing                483810.1893  490927.7747   492737.901  495730.2602   \n",
      "Enfield               397144.6805  399741.7122  405961.5964  405703.8597   \n",
      "Greenwich             389491.0014  399103.6966  400711.6254  405693.9916   \n",
      "Hackney               584803.5943   607149.738  596393.5355  597193.6807   \n",
      "Hammersmith & Fulham  758825.1121  752481.0114  734429.5455  739251.3872   \n",
      "Haringey               565432.092  570180.4805  586554.6077  582786.4675   \n",
      "Harrow                452524.2946  454162.7856  459345.0256  466269.6704   \n",
      "Havering              375067.0321  373311.9564  371731.2009  374372.8478   \n",
      "Hillingdon            410160.5501  410313.6412  414511.6067  417042.3644   \n",
      "Hounslow              407761.4209  418843.3232  423637.2231  427243.3495   \n",
      "Islington             678740.7757  691113.9478  691884.9069   675228.881   \n",
      "Kensington & Chelsea  1344349.768  1347732.643  1309244.566  1322480.263   \n",
      "Kingston Upon Thames  497936.3958  499977.6186  498418.7078  495782.8322   \n",
      "Lambeth               538243.3082   544458.117  543609.2364  544878.7062   \n",
      "Lewisham              421910.1543  427228.6325  434644.8743  440720.3653   \n",
      "Merton                528416.8149  525931.4742  541102.9798  548093.7296   \n",
      "Newham                374037.2593  368466.9133  374898.1152  378268.0382   \n",
      "Redbridge             420140.3519  427270.4524  429978.2088  437533.3069   \n",
      "Richmond Upon Thames  688623.5668   689690.238  689687.3699    692018.96   \n",
      "Southwark             506554.3156  510642.8023  515911.1518  526972.5113   \n",
      "Sutton                378301.2131  381404.5753  385121.4308  390584.1669   \n",
      "Tower Hamlets         454849.8542  467584.3014  475916.6355  472567.6923   \n",
      "Waltham Forest         449509.609   450747.785  464738.5695  470486.5441   \n",
      "Wandsworth            611665.4591  630857.4308  627595.5815  622903.8392   \n",
      "Westminster           981247.5684  941113.8842  909857.0696  902651.2922   \n",
      "\n",
      "                          2020-12       2021-1       2021-2       2021-3  \n",
      "Barking & Dagenham    310281.2864  314068.1054  319588.7141  317184.7975  \n",
      "Barnet                533160.1771  541621.6878  536096.0398  534005.4666  \n",
      "Bexley                353710.4793  358242.6956  361861.3566  367014.6063  \n",
      "Brent                   495230.52  508184.2874   513426.445  510532.7941  \n",
      "Bromley               455443.4492  459231.9815   461772.937   463226.493  \n",
      "Camden                799707.7587  816544.3502  820737.9968  796441.8986  \n",
      "Croydon               381462.2562  386804.4878  389486.9505  385345.3301  \n",
      "Ealing                 496607.473  499463.3694  497977.0355  490426.1105  \n",
      "Enfield               413058.8666  418295.7115  416895.3845  428256.8174  \n",
      "Greenwich             403273.9056  409863.0671  412010.2131  416305.5648  \n",
      "Hackney               586533.0848  601147.8181  602496.6537  604465.6234  \n",
      "Hammersmith & Fulham  726874.1645  740878.3685  728181.6131   804516.589  \n",
      "Haringey              586211.7018  593078.6177  593325.8298  607029.0477  \n",
      "Harrow                473905.0722  475632.2769   480006.282  479416.7999  \n",
      "Havering              378460.7195  382254.1491  385328.4851  390902.1986  \n",
      "Hillingdon            426714.7983  426607.5292  428205.7433   419408.083  \n",
      "Hounslow              426113.6286  432037.3564  429200.4745  423196.9733  \n",
      "Islington             660155.3587  686588.6942  689965.3366  682485.3668  \n",
      "Kensington & Chelsea  1341825.358  1335986.738  1265639.277  1332133.627  \n",
      "Kingston Upon Thames  499815.6744  506885.4165  503585.5456  511317.8018  \n",
      "Lambeth               538503.4191  543874.3597  533049.0867  530046.2077  \n",
      "Lewisham              440121.8053  444958.6327   445112.692  432500.3988  \n",
      "Merton                553989.1943  556417.6801  555453.1341  557445.3557  \n",
      "Newham                387241.9926   386677.421  392522.0456    378861.74  \n",
      "Redbridge             444825.2541   458143.898  460038.8628  454415.3704  \n",
      "Richmond Upon Thames  695834.9176  703136.6742   695310.805  690985.2275  \n",
      "Southwark             540155.1923  541087.9001  526823.5322  508423.3645  \n",
      "Sutton                393659.6895  395535.5955  399333.7901  395397.0897  \n",
      "Tower Hamlets         469124.8607  462095.5231  468038.8834   496246.715  \n",
      "Waltham Forest        472941.9976   475368.194  479291.5422  490895.1588  \n",
      "Wandsworth             609769.234  609596.6794  603480.4116  598279.4347  \n",
      "Westminster           910766.0323  943264.1927  949257.9177  927993.3354  \n",
      "\n",
      "[32 rows x 316 columns]\n"
     ]
    }
   ],
   "source": [
    "#drop rows with ids = ['E09000001',starting with other than E09]\n",
    "properties = properties[properties['id']!='E09000001']\n",
    "print(properties.head())\n",
    "properties = properties[properties['id'].str[0:3]=='E09'] # this also removes the first row\n",
    "print(properties)"
   ]
  },
  {
   "cell_type": "code",
   "execution_count": 12,
   "metadata": {
    "colab": {
     "base_uri": "https://localhost:8080/"
    },
    "id": "crnltJ2qIW3o",
    "outputId": "7f7b81fa-7b49-40e6-ba4a-e0aa580309cc"
   },
   "outputs": [
    {
     "data": {
      "text/plain": [
       "id         object\n",
       "1995-1     object\n",
       "1995-2     object\n",
       "1995-3     object\n",
       "1995-4     object\n",
       "            ...  \n",
       "2020-11    object\n",
       "2020-12    object\n",
       "2021-1     object\n",
       "2021-2     object\n",
       "2021-3     object\n",
       "Length: 316, dtype: object"
      ]
     },
     "execution_count": 12,
     "metadata": {},
     "output_type": "execute_result"
    }
   ],
   "source": [
    "#check datatypes of each column\n",
    "properties.dtypes"
   ]
  },
  {
   "cell_type": "code",
   "execution_count": 13,
   "metadata": {
    "colab": {
     "base_uri": "https://localhost:8080/"
    },
    "id": "IZl5tqj7IduX",
    "outputId": "2380b9dd-d4e9-4761-c126-49638a2e3ab8"
   },
   "outputs": [
    {
     "name": "stdout",
     "output_type": "stream",
     "text": [
      "borough_name    object\n",
      "id              object\n",
      "1995-1          object\n",
      "1995-2          object\n",
      "1995-3          object\n",
      "                 ...  \n",
      "2020-11         object\n",
      "2020-12         object\n",
      "2021-1          object\n",
      "2021-2          object\n",
      "2021-3          object\n",
      "Length: 317, dtype: object\n"
     ]
    }
   ],
   "source": [
    "#change first column to str and others to float\n",
    "properties.reset_index(inplace=True)\n",
    "properties.rename(columns = {'index':'borough_name'}, inplace = True)\n",
    "properties[['id','borough_name']] = properties[['id','borough_name']].astype('str')\n",
    "properties.iloc[:,2:] = properties.iloc[:,2:].astype('float32')\n",
    "\n",
    "# #look at all the datatypes to make sure they are what we want\n",
    "print(properties.dtypes) #still shows object"
   ]
  },
  {
   "cell_type": "code",
   "execution_count": 14,
   "metadata": {
    "colab": {
     "base_uri": "https://localhost:8080/"
    },
    "id": "Td0X_cCHc8Pn",
    "outputId": "c9f22fe7-8e73-493d-c098-34e1813692ed"
   },
   "outputs": [
    {
     "name": "stdout",
     "output_type": "stream",
     "text": [
      "<class 'str'>\n",
      "<class 'str'>\n",
      "<class 'float'>\n"
     ]
    }
   ],
   "source": [
    "print(type(properties.iloc[0,0])) # data is in str format\n",
    "print(type(properties.iloc[0,1])) # data is in str format\n",
    "print(type(properties.iloc[0,2])) # data is in float format"
   ]
  },
  {
   "cell_type": "code",
   "execution_count": 15,
   "metadata": {
    "colab": {
     "base_uri": "https://localhost:8080/",
     "height": 419
    },
    "id": "kSyZRt_hlxQ0",
    "outputId": "35c8e16d-1bf2-4908-d587-faaadeea3316"
   },
   "outputs": [
    {
     "data": {
      "text/html": [
       "<div>\n",
       "<style scoped>\n",
       "    .dataframe tbody tr th:only-of-type {\n",
       "        vertical-align: middle;\n",
       "    }\n",
       "\n",
       "    .dataframe tbody tr th {\n",
       "        vertical-align: top;\n",
       "    }\n",
       "\n",
       "    .dataframe thead th {\n",
       "        text-align: right;\n",
       "    }\n",
       "</style>\n",
       "<table border=\"1\" class=\"dataframe\">\n",
       "  <thead>\n",
       "    <tr style=\"text-align: right;\">\n",
       "      <th></th>\n",
       "      <th>borough_name</th>\n",
       "      <th>id</th>\n",
       "      <th>month</th>\n",
       "      <th>avg_price</th>\n",
       "    </tr>\n",
       "  </thead>\n",
       "  <tbody>\n",
       "    <tr>\n",
       "      <th>0</th>\n",
       "      <td>Barking &amp; Dagenham</td>\n",
       "      <td>E09000002</td>\n",
       "      <td>1995-1</td>\n",
       "      <td>50460.226562</td>\n",
       "    </tr>\n",
       "    <tr>\n",
       "      <th>1</th>\n",
       "      <td>Barnet</td>\n",
       "      <td>E09000003</td>\n",
       "      <td>1995-1</td>\n",
       "      <td>93284.515625</td>\n",
       "    </tr>\n",
       "    <tr>\n",
       "      <th>2</th>\n",
       "      <td>Bexley</td>\n",
       "      <td>E09000004</td>\n",
       "      <td>1995-1</td>\n",
       "      <td>64958.089844</td>\n",
       "    </tr>\n",
       "    <tr>\n",
       "      <th>3</th>\n",
       "      <td>Brent</td>\n",
       "      <td>E09000005</td>\n",
       "      <td>1995-1</td>\n",
       "      <td>71306.570312</td>\n",
       "    </tr>\n",
       "    <tr>\n",
       "      <th>4</th>\n",
       "      <td>Bromley</td>\n",
       "      <td>E09000006</td>\n",
       "      <td>1995-1</td>\n",
       "      <td>81671.476562</td>\n",
       "    </tr>\n",
       "    <tr>\n",
       "      <th>...</th>\n",
       "      <td>...</td>\n",
       "      <td>...</td>\n",
       "      <td>...</td>\n",
       "      <td>...</td>\n",
       "    </tr>\n",
       "    <tr>\n",
       "      <th>10075</th>\n",
       "      <td>Sutton</td>\n",
       "      <td>E09000029</td>\n",
       "      <td>2021-3</td>\n",
       "      <td>395397.093750</td>\n",
       "    </tr>\n",
       "    <tr>\n",
       "      <th>10076</th>\n",
       "      <td>Tower Hamlets</td>\n",
       "      <td>E09000030</td>\n",
       "      <td>2021-3</td>\n",
       "      <td>496246.718750</td>\n",
       "    </tr>\n",
       "    <tr>\n",
       "      <th>10077</th>\n",
       "      <td>Waltham Forest</td>\n",
       "      <td>E09000031</td>\n",
       "      <td>2021-3</td>\n",
       "      <td>490895.156250</td>\n",
       "    </tr>\n",
       "    <tr>\n",
       "      <th>10078</th>\n",
       "      <td>Wandsworth</td>\n",
       "      <td>E09000032</td>\n",
       "      <td>2021-3</td>\n",
       "      <td>598279.437500</td>\n",
       "    </tr>\n",
       "    <tr>\n",
       "      <th>10079</th>\n",
       "      <td>Westminster</td>\n",
       "      <td>E09000033</td>\n",
       "      <td>2021-3</td>\n",
       "      <td>927993.312500</td>\n",
       "    </tr>\n",
       "  </tbody>\n",
       "</table>\n",
       "<p>10080 rows × 4 columns</p>\n",
       "</div>"
      ],
      "text/plain": [
       "             borough_name         id   month      avg_price\n",
       "0      Barking & Dagenham  E09000002  1995-1   50460.226562\n",
       "1                  Barnet  E09000003  1995-1   93284.515625\n",
       "2                  Bexley  E09000004  1995-1   64958.089844\n",
       "3                   Brent  E09000005  1995-1   71306.570312\n",
       "4                 Bromley  E09000006  1995-1   81671.476562\n",
       "...                   ...        ...     ...            ...\n",
       "10075              Sutton  E09000029  2021-3  395397.093750\n",
       "10076       Tower Hamlets  E09000030  2021-3  496246.718750\n",
       "10077      Waltham Forest  E09000031  2021-3  490895.156250\n",
       "10078          Wandsworth  E09000032  2021-3  598279.437500\n",
       "10079         Westminster  E09000033  2021-3  927993.312500\n",
       "\n",
       "[10080 rows x 4 columns]"
      ]
     },
     "execution_count": 15,
     "metadata": {},
     "output_type": "execute_result"
    }
   ],
   "source": [
    "# melt to make further analysis easy\n",
    "properties = properties.melt(id_vars=['borough_name','id'],value_vars=properties.columns[2:],var_name='month',value_name='avg_price')\n",
    "properties.infer_objects()"
   ]
  },
  {
   "cell_type": "markdown",
   "metadata": {
    "id": "PGEx6mJsp6dG"
   },
   "source": [
    "**2.6. Visualizing the data**\n",
    "\n",
    "To visualize the data, why not subset on a particular London Borough? Maybe do a line plot of Month against Average Price?"
   ]
  },
  {
   "cell_type": "code",
   "execution_count": 16,
   "metadata": {
    "colab": {
     "base_uri": "https://localhost:8080/",
     "height": 295
    },
    "id": "nAg5pT9cqHAR",
    "outputId": "42bd4d8c-5ee4-48fd-8b91-2b7c9acf3a01"
   },
   "outputs": [
    {
     "data": {
      "image/png": "[encoded data removed]",
      "text/plain": [
       "<Figure size 432x288 with 1 Axes>"
      ]
     },
     "metadata": {
      "needs_background": "light"
     },
     "output_type": "display_data"
    }
   ],
   "source": [
    "properties.query(\"id=='E09000002'\").plot(x = 'month', y='avg_price' ,xlabel=\"Month\", ylabel='Average Price', title = 'Average Price of {}'.format(properties['borough_name'][0]))\n",
    "plt.show()"
   ]
  },
  {
   "cell_type": "markdown",
   "metadata": {
    "id": "aWTPqSJeqHnC"
   },
   "source": [
    "To limit the number of data points you have, you might want to extract the year from every month value your *Month* column. \n",
    "\n",
    "To this end, you *could* apply a ***lambda function***. Your logic could work as follows:\n",
    "1. look through the `Month` column\n",
    "2. extract the year from each individual value in that column \n",
    "3. store that corresponding year as separate column. \n",
    "\n",
    "Whether you go ahead with this is up to you. Just so long as you answer our initial brief: which boroughs of London have seen the greatest house price increase, on average, over the past two decades? "
   ]
  },
  {
   "cell_type": "code",
   "execution_count": 17,
   "metadata": {
    "colab": {
     "base_uri": "https://localhost:8080/",
     "height": 419
    },
    "id": "e0DF92cyqnu8",
    "outputId": "9bd5a853-b369-440d-d4f8-ed710cec7a26"
   },
   "outputs": [
    {
     "data": {
      "text/html": [
       "<div>\n",
       "<style scoped>\n",
       "    .dataframe tbody tr th:only-of-type {\n",
       "        vertical-align: middle;\n",
       "    }\n",
       "\n",
       "    .dataframe tbody tr th {\n",
       "        vertical-align: top;\n",
       "    }\n",
       "\n",
       "    .dataframe thead th {\n",
       "        text-align: right;\n",
       "    }\n",
       "</style>\n",
       "<table border=\"1\" class=\"dataframe\">\n",
       "  <thead>\n",
       "    <tr style=\"text-align: right;\">\n",
       "      <th></th>\n",
       "      <th>borough_name</th>\n",
       "      <th>id</th>\n",
       "      <th>month</th>\n",
       "      <th>avg_price</th>\n",
       "      <th>year</th>\n",
       "    </tr>\n",
       "  </thead>\n",
       "  <tbody>\n",
       "    <tr>\n",
       "      <th>0</th>\n",
       "      <td>Barking &amp; Dagenham</td>\n",
       "      <td>E09000002</td>\n",
       "      <td>1995-1</td>\n",
       "      <td>50460.226562</td>\n",
       "      <td>1995</td>\n",
       "    </tr>\n",
       "    <tr>\n",
       "      <th>1</th>\n",
       "      <td>Barnet</td>\n",
       "      <td>E09000003</td>\n",
       "      <td>1995-1</td>\n",
       "      <td>93284.515625</td>\n",
       "      <td>1995</td>\n",
       "    </tr>\n",
       "    <tr>\n",
       "      <th>2</th>\n",
       "      <td>Bexley</td>\n",
       "      <td>E09000004</td>\n",
       "      <td>1995-1</td>\n",
       "      <td>64958.089844</td>\n",
       "      <td>1995</td>\n",
       "    </tr>\n",
       "    <tr>\n",
       "      <th>3</th>\n",
       "      <td>Brent</td>\n",
       "      <td>E09000005</td>\n",
       "      <td>1995-1</td>\n",
       "      <td>71306.570312</td>\n",
       "      <td>1995</td>\n",
       "    </tr>\n",
       "    <tr>\n",
       "      <th>4</th>\n",
       "      <td>Bromley</td>\n",
       "      <td>E09000006</td>\n",
       "      <td>1995-1</td>\n",
       "      <td>81671.476562</td>\n",
       "      <td>1995</td>\n",
       "    </tr>\n",
       "    <tr>\n",
       "      <th>...</th>\n",
       "      <td>...</td>\n",
       "      <td>...</td>\n",
       "      <td>...</td>\n",
       "      <td>...</td>\n",
       "      <td>...</td>\n",
       "    </tr>\n",
       "    <tr>\n",
       "      <th>10075</th>\n",
       "      <td>Sutton</td>\n",
       "      <td>E09000029</td>\n",
       "      <td>2021-3</td>\n",
       "      <td>395397.093750</td>\n",
       "      <td>2021</td>\n",
       "    </tr>\n",
       "    <tr>\n",
       "      <th>10076</th>\n",
       "      <td>Tower Hamlets</td>\n",
       "      <td>E09000030</td>\n",
       "      <td>2021-3</td>\n",
       "      <td>496246.718750</td>\n",
       "      <td>2021</td>\n",
       "    </tr>\n",
       "    <tr>\n",
       "      <th>10077</th>\n",
       "      <td>Waltham Forest</td>\n",
       "      <td>E09000031</td>\n",
       "      <td>2021-3</td>\n",
       "      <td>490895.156250</td>\n",
       "      <td>2021</td>\n",
       "    </tr>\n",
       "    <tr>\n",
       "      <th>10078</th>\n",
       "      <td>Wandsworth</td>\n",
       "      <td>E09000032</td>\n",
       "      <td>2021-3</td>\n",
       "      <td>598279.437500</td>\n",
       "      <td>2021</td>\n",
       "    </tr>\n",
       "    <tr>\n",
       "      <th>10079</th>\n",
       "      <td>Westminster</td>\n",
       "      <td>E09000033</td>\n",
       "      <td>2021-3</td>\n",
       "      <td>927993.312500</td>\n",
       "      <td>2021</td>\n",
       "    </tr>\n",
       "  </tbody>\n",
       "</table>\n",
       "<p>10080 rows × 5 columns</p>\n",
       "</div>"
      ],
      "text/plain": [
       "             borough_name         id   month      avg_price  year\n",
       "0      Barking & Dagenham  E09000002  1995-1   50460.226562  1995\n",
       "1                  Barnet  E09000003  1995-1   93284.515625  1995\n",
       "2                  Bexley  E09000004  1995-1   64958.089844  1995\n",
       "3                   Brent  E09000005  1995-1   71306.570312  1995\n",
       "4                 Bromley  E09000006  1995-1   81671.476562  1995\n",
       "...                   ...        ...     ...            ...   ...\n",
       "10075              Sutton  E09000029  2021-3  395397.093750  2021\n",
       "10076       Tower Hamlets  E09000030  2021-3  496246.718750  2021\n",
       "10077      Waltham Forest  E09000031  2021-3  490895.156250  2021\n",
       "10078          Wandsworth  E09000032  2021-3  598279.437500  2021\n",
       "10079         Westminster  E09000033  2021-3  927993.312500  2021\n",
       "\n",
       "[10080 rows x 5 columns]"
      ]
     },
     "execution_count": 17,
     "metadata": {},
     "output_type": "execute_result"
    }
   ],
   "source": [
    "# create a year column using lambda function\n",
    "properties['year'] = properties.apply(lambda x: x['month'][:4], axis=1)\n",
    "properties.infer_objects()"
   ]
  },
  {
   "cell_type": "markdown",
   "metadata": {
    "id": "2knuTxAEqoJ4"
   },
   "source": [
    "**3. Modeling**\n",
    "\n",
    "Consider creating a function that will calculate a ratio of house prices, comparing the price of a house in 2018 to the price in 1998.\n",
    "\n",
    "Consider calling this function create_price_ratio.\n",
    "\n",
    "You'd want this function to:\n",
    "1. Take a filter of dfg, specifically where this filter constrains the London_Borough, as an argument. For example, one admissible argument should be: dfg[dfg['London_Borough']=='Camden'].\n",
    "2. Get the Average Price for that Borough, for the years 1998 and 2018.\n",
    "4. Calculate the ratio of the Average Price for 1998 divided by the Average Price for 2018.\n",
    "5. Return that ratio.\n",
    "\n",
    "Once you've written this function, you ultimately want to use it to iterate through all the unique London_Boroughs and work out the ratio capturing the difference of house prices between 1998 and 2018.\n",
    "\n",
    "Bear in mind: you don't have to write a function like this if you don't want to. If you can solve the brief otherwise, then great! \n",
    "\n",
    "***Hint***: This section should test the skills you acquired in:\n",
    "- Python Data Science Toolbox - Part One, all modules"
   ]
  },
  {
   "cell_type": "code",
   "execution_count": 18,
   "metadata": {
    "colab": {
     "base_uri": "https://localhost:8080/"
    },
    "id": "cKTyr437UgDa",
    "outputId": "c128d9b7-5b49-4e62-89ce-90830caf3d1f"
   },
   "outputs": [
    {
     "data": {
      "text/html": [
       "<div>\n",
       "<style scoped>\n",
       "    .dataframe tbody tr th:only-of-type {\n",
       "        vertical-align: middle;\n",
       "    }\n",
       "\n",
       "    .dataframe tbody tr th {\n",
       "        vertical-align: top;\n",
       "    }\n",
       "\n",
       "    .dataframe thead th {\n",
       "        text-align: right;\n",
       "    }\n",
       "</style>\n",
       "<table border=\"1\" class=\"dataframe\">\n",
       "  <thead>\n",
       "    <tr style=\"text-align: right;\">\n",
       "      <th></th>\n",
       "      <th>ratio</th>\n",
       "    </tr>\n",
       "    <tr>\n",
       "      <th>borough_name</th>\n",
       "      <th></th>\n",
       "    </tr>\n",
       "  </thead>\n",
       "  <tbody>\n",
       "    <tr>\n",
       "      <th>Barking &amp; Dagenham</th>\n",
       "      <td>4.896619</td>\n",
       "    </tr>\n",
       "    <tr>\n",
       "      <th>Barnet</th>\n",
       "      <td>4.358196</td>\n",
       "    </tr>\n",
       "    <tr>\n",
       "      <th>Bexley</th>\n",
       "      <td>4.248978</td>\n",
       "    </tr>\n",
       "    <tr>\n",
       "      <th>Brent</th>\n",
       "      <td>4.894554</td>\n",
       "    </tr>\n",
       "    <tr>\n",
       "      <th>Bromley</th>\n",
       "      <td>4.094785</td>\n",
       "    </tr>\n",
       "    <tr>\n",
       "      <th>Camden</th>\n",
       "      <td>4.935354</td>\n",
       "    </tr>\n",
       "    <tr>\n",
       "      <th>Croydon</th>\n",
       "      <td>4.201100</td>\n",
       "    </tr>\n",
       "    <tr>\n",
       "      <th>Ealing</th>\n",
       "      <td>4.311451</td>\n",
       "    </tr>\n",
       "    <tr>\n",
       "      <th>Enfield</th>\n",
       "      <td>4.263472</td>\n",
       "    </tr>\n",
       "    <tr>\n",
       "      <th>Greenwich</th>\n",
       "      <td>4.763036</td>\n",
       "    </tr>\n",
       "    <tr>\n",
       "      <th>Hackney</th>\n",
       "      <td>6.198286</td>\n",
       "    </tr>\n",
       "    <tr>\n",
       "      <th>Hammersmith &amp; Fulham</th>\n",
       "      <td>4.137798</td>\n",
       "    </tr>\n",
       "    <tr>\n",
       "      <th>Haringey</th>\n",
       "      <td>5.134624</td>\n",
       "    </tr>\n",
       "    <tr>\n",
       "      <th>Harrow</th>\n",
       "      <td>4.059196</td>\n",
       "    </tr>\n",
       "    <tr>\n",
       "      <th>Havering</th>\n",
       "      <td>4.325231</td>\n",
       "    </tr>\n",
       "    <tr>\n",
       "      <th>Hillingdon</th>\n",
       "      <td>4.200273</td>\n",
       "    </tr>\n",
       "    <tr>\n",
       "      <th>Hounslow</th>\n",
       "      <td>3.976409</td>\n",
       "    </tr>\n",
       "    <tr>\n",
       "      <th>Islington</th>\n",
       "      <td>4.844048</td>\n",
       "    </tr>\n",
       "    <tr>\n",
       "      <th>Kensington &amp; Chelsea</th>\n",
       "      <td>5.082465</td>\n",
       "    </tr>\n",
       "    <tr>\n",
       "      <th>Kingston Upon Thames</th>\n",
       "      <td>4.270550</td>\n",
       "    </tr>\n",
       "    <tr>\n",
       "      <th>Lambeth</th>\n",
       "      <td>4.957751</td>\n",
       "    </tr>\n",
       "    <tr>\n",
       "      <th>Lewisham</th>\n",
       "      <td>5.449221</td>\n",
       "    </tr>\n",
       "    <tr>\n",
       "      <th>Merton</th>\n",
       "      <td>4.741273</td>\n",
       "    </tr>\n",
       "    <tr>\n",
       "      <th>Newham</th>\n",
       "      <td>5.305390</td>\n",
       "    </tr>\n",
       "    <tr>\n",
       "      <th>Redbridge</th>\n",
       "      <td>4.471182</td>\n",
       "    </tr>\n",
       "    <tr>\n",
       "      <th>Richmond Upon Thames</th>\n",
       "      <td>4.005162</td>\n",
       "    </tr>\n",
       "    <tr>\n",
       "      <th>Southwark</th>\n",
       "      <td>5.516485</td>\n",
       "    </tr>\n",
       "    <tr>\n",
       "      <th>Sutton</th>\n",
       "      <td>4.118522</td>\n",
       "    </tr>\n",
       "    <tr>\n",
       "      <th>Tower Hamlets</th>\n",
       "      <td>4.626701</td>\n",
       "    </tr>\n",
       "    <tr>\n",
       "      <th>Waltham Forest</th>\n",
       "      <td>5.834755</td>\n",
       "    </tr>\n",
       "    <tr>\n",
       "      <th>Wandsworth</th>\n",
       "      <td>4.757710</td>\n",
       "    </tr>\n",
       "    <tr>\n",
       "      <th>Westminster</th>\n",
       "      <td>5.353565</td>\n",
       "    </tr>\n",
       "  </tbody>\n",
       "</table>\n",
       "</div>"
      ],
      "text/plain": [
       "                         ratio\n",
       "borough_name                  \n",
       "Barking & Dagenham    4.896619\n",
       "Barnet                4.358196\n",
       "Bexley                4.248978\n",
       "Brent                 4.894554\n",
       "Bromley               4.094785\n",
       "Camden                4.935354\n",
       "Croydon               4.201100\n",
       "Ealing                4.311451\n",
       "Enfield               4.263472\n",
       "Greenwich             4.763036\n",
       "Hackney               6.198286\n",
       "Hammersmith & Fulham  4.137798\n",
       "Haringey              5.134624\n",
       "Harrow                4.059196\n",
       "Havering              4.325231\n",
       "Hillingdon            4.200273\n",
       "Hounslow              3.976409\n",
       "Islington             4.844048\n",
       "Kensington & Chelsea  5.082465\n",
       "Kingston Upon Thames  4.270550\n",
       "Lambeth               4.957751\n",
       "Lewisham              5.449221\n",
       "Merton                4.741273\n",
       "Newham                5.305390\n",
       "Redbridge             4.471182\n",
       "Richmond Upon Thames  4.005162\n",
       "Southwark             5.516485\n",
       "Sutton                4.118522\n",
       "Tower Hamlets         4.626701\n",
       "Waltham Forest        5.834755\n",
       "Wandsworth            4.757710\n",
       "Westminster           5.353565"
      ]
     },
     "execution_count": 18,
     "metadata": {},
     "output_type": "execute_result"
    }
   ],
   "source": [
    "# avg_price is an object instead of float\n",
    "properties['avg_price'] = properties['avg_price'].astype('float32') \n",
    "\n",
    "properties_ratio = properties[properties.year.isin(['1998', '2018'])].groupby(['borough_name','year']). \\\n",
    "                        mean().reset_index().pivot(index = 'borough_name', columns='year', values='avg_price'). \\\n",
    "                        assign(ratio = lambda x: x.iloc[:, 1]/x.iloc[:,0])\n",
    "properties_ratio.drop(properties_ratio.columns[[0,1]], inplace=True, axis=1)\n",
    "properties_ratio.columns.name = None\n",
    "properties_ratio"
   ]
  },
  {
   "cell_type": "code",
   "execution_count": 19,
   "metadata": {
    "colab": {
     "base_uri": "https://localhost:8080/"
    },
    "id": "qF4SIKKdbl0V",
    "outputId": "8debf730-9798-4206-89a5-6e186259d33a"
   },
   "outputs": [
    {
     "name": "stdout",
     "output_type": "stream",
     "text": [
      "                         ratio\n",
      "borough_name                  \n",
      "Hackney               6.198286\n",
      "Waltham Forest        5.834755\n",
      "Southwark             5.516485\n",
      "Lewisham              5.449221\n",
      "Westminster           5.353565\n",
      "Newham                5.305390\n",
      "Haringey              5.134624\n",
      "Kensington & Chelsea  5.082465\n",
      "Lambeth               4.957751\n",
      "Camden                4.935354\n",
      "Barking & Dagenham    4.896619\n",
      "Brent                 4.894554\n",
      "Islington             4.844048\n",
      "Greenwich             4.763036\n",
      "Wandsworth            4.757710\n",
      "Merton                4.741273\n",
      "Tower Hamlets         4.626701\n",
      "Redbridge             4.471182\n",
      "Barnet                4.358196\n",
      "Havering              4.325231\n",
      "Ealing                4.311451\n",
      "Kingston Upon Thames  4.270550\n",
      "Enfield               4.263472\n",
      "Bexley                4.248978\n",
      "Croydon               4.201100\n",
      "Hillingdon            4.200273\n",
      "Hammersmith & Fulham  4.137798\n",
      "Sutton                4.118522\n",
      "Bromley               4.094785\n",
      "Harrow                4.059196\n",
      "Richmond Upon Thames  4.005162\n",
      "Hounslow              3.976409\n"
     ]
    }
   ],
   "source": [
    "print(properties_ratio.sort_values('ratio', ascending=False))"
   ]
  },
  {
   "cell_type": "code",
   "execution_count": 20,
   "metadata": {
    "colab": {
     "base_uri": "https://localhost:8080/",
     "height": 407
    },
    "id": "GKVHgFzzcKHM",
    "outputId": "07a63ede-e39a-49e6-88dd-326d5178d411"
   },
   "outputs": [
    {
     "data": {
      "image/png": "[encoded data removed]",
      "text/plain": [
       "<Figure size 432x288 with 1 Axes>"
      ]
     },
     "metadata": {
      "needs_background": "light"
     },
     "output_type": "display_data"
    }
   ],
   "source": [
    "properties_ratio.sort_values('ratio', ascending=False)[:10].plot(xlabel='Borough', ylabel='Ratio of average house prices', title='Ratio of average house prices in 2018 and 1998', rot=90, kind='bar')\n",
    "plt.show()"
   ]
  },
  {
   "cell_type": "markdown",
   "metadata": {
    "id": "NzYUI7FxJpgv"
   },
   "source": [
    "### 4. Conclusion\n",
    "What can you conclude? Type out your conclusion below. \n",
    "\n",
    "Look back at your notebook. Think about how you might summarize what you have done, and prepare a quick presentation on it to your mentor at your next meeting. \n",
    "\n",
    "We hope you enjoyed this practical project. It should have consolidated your data hygiene and pandas skills by looking at a real-world problem involving just the kind of dataset you might encounter as a budding data scientist. Congratulations, and looking forward to seeing you at the next step in the course! "
   ]
  },
  {
   "cell_type": "markdown",
   "metadata": {
    "id": "vhxVwDU8d_SO"
   },
   "source": [
    "Hackney borough has the maximum ratio of avg_price_2018/avg_price_1998 of 6.198286, that's about a 520% increase in the price value. The second maximum increase in house price is Waltham Forest with about 483% increase. The lowest price increase is about 297% in Hounslow borough. So, Hackney is the most desirable borough with the highest price increase and Hounslow is the least desirable borugh with the lowest price increase. "
   ]
  }
 ],
 "metadata": {
  "colab": {
   "collapsed_sections": [
    "zswDqbefJpgm",
    "aEau5nEvJpgm",
    "koUrawxsJpgq"
   ],
   "include_colab_link": true,
   "name": "Unit 4 Challenge - Tier 3.ipynb",
   "provenance": []
  },
  "kernelspec": {
   "display_name": "Python 3",
   "language": "python",
   "name": "python3"
  },
  "language_info": {
   "codemirror_mode": {
    "name": "ipython",
    "version": 3
   },
   "file_extension": ".py",
   "mimetype": "text/x-python",
   "name": "python",
   "nbconvert_exporter": "python",
   "pygments_lexer": "ipython3",
   "version": "3.8.8"
  }
 },
 "nbformat": 4,
 "nbformat_minor": 1
}
