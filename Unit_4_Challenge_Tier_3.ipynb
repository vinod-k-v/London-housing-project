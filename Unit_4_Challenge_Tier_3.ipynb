{
  "nbformat": 4,
  "nbformat_minor": 0,
  "metadata": {
    "kernelspec": {
      "display_name": "Python 3",
      "language": "python",
      "name": "python3"
    },
    "language_info": {
      "codemirror_mode": {
        "name": "ipython",
        "version": 3
      },
      "file_extension": ".py",
      "mimetype": "text/x-python",
      "name": "python",
      "nbconvert_exporter": "python",
      "pygments_lexer": "ipython3",
      "version": "3.7.3"
    },
    "colab": {
      "name": "Unit 4 Challenge - Tier 3.ipynb",
      "provenance": [],
      "collapsed_sections": [
        "zswDqbefJpgm",
        "aEau5nEvJpgm",
        "koUrawxsJpgq"
      ],
      "include_colab_link": true
    }
  },
  "cells": [
    {
      "cell_type": "markdown",
      "metadata": {
        "id": "view-in-github",
        "colab_type": "text"
      },
      "source": [
        "<a href=\"https://colab.research.google.com/github/vinod-k-v/London-housing-project/blob/main/Unit_4_Challenge_Tier_3.ipynb\" target=\"_parent\"><img src=\"https://colab.research.google.com/assets/colab-badge.svg\" alt=\"Open In Colab\"/></a>"
      ]
    },
    {
      "cell_type": "markdown",
      "metadata": {
        "id": "Tia3MP1SJpgj"
      },
      "source": [
        "# Springboard Data Science Career Track Unit 4 Challenge - Tier 3 Complete\n",
        "\n",
        "## Objectives\n",
        "Hey! Great job getting through those challenging DataCamp courses. You're learning a lot in a short span of time. \n",
        "\n",
        "In this notebook, you're going to apply the skills you've been learning, bridging the gap between the controlled environment of DataCamp and the *slightly* messier work that data scientists do with actual datasets!\n",
        "\n",
        "Here’s the mystery we’re going to solve: ***which boroughs of London have seen the greatest increase in housing prices, on average, over the last two decades?***\n",
        "\n",
        "\n",
        "A borough is just a fancy word for district. You may be familiar with the five boroughs of New York… well, there are 32 boroughs within Greater London [(here's some info for the curious)](https://en.wikipedia.org/wiki/London_boroughs). Some of them are more desirable areas to live in, and the data will reflect that with a greater rise in housing prices.\n",
        "\n",
        "***This is the Tier 3 notebook, which means it's not filled in at all: we'll just give you the skeleton of a project, the brief and the data. It's up to you to play around with it and see what you can find out! Good luck! If you struggle, feel free to look at easier tiers for help; but try to dip in and out of them, as the more independent work you do, the better it is for your learning!***\n",
        "\n",
        "This challenge will make use of only what you learned in the following DataCamp courses: \n",
        "- Prework courses (Introduction to Python for Data Science, Intermediate Python for Data Science)\n",
        "- Data Types for Data Science\n",
        "- Python Data Science Toolbox (Part One) \n",
        "- pandas Foundations\n",
        "- Manipulating DataFrames with pandas\n",
        "- Merging DataFrames with pandas\n",
        "\n",
        "Of the tools, techniques and concepts in the above DataCamp courses, this challenge should require the application of the following: \n",
        "- **pandas**\n",
        "    - **data ingestion and inspection** (pandas Foundations, Module One) \n",
        "    - **exploratory data analysis** (pandas Foundations, Module Two)\n",
        "    - **tidying and cleaning** (Manipulating DataFrames with pandas, Module Three) \n",
        "    - **transforming DataFrames** (Manipulating DataFrames with pandas, Module One)\n",
        "    - **subsetting DataFrames with lists** (Manipulating DataFrames with pandas, Module One) \n",
        "    - **filtering DataFrames** (Manipulating DataFrames with pandas, Module One) \n",
        "    - **grouping data** (Manipulating DataFrames with pandas, Module Four) \n",
        "    - **melting data** (Manipulating DataFrames with pandas, Module Three) \n",
        "    - **advanced indexing** (Manipulating DataFrames with pandas, Module Four) \n",
        "- **matplotlib** (Intermediate Python for Data Science, Module One)\n",
        "- **fundamental data types** (Data Types for Data Science, Module One) \n",
        "- **dictionaries** (Intermediate Python for Data Science, Module Two)\n",
        "- **handling dates and times** (Data Types for Data Science, Module Four)\n",
        "- **function definition** (Python Data Science Toolbox - Part One, Module One)\n",
        "- **default arguments, variable length, and scope** (Python Data Science Toolbox - Part One, Module Two) \n",
        "- **lambda functions and error handling** (Python Data Science Toolbox - Part One, Module Four) "
      ]
    },
    {
      "cell_type": "markdown",
      "metadata": {
        "id": "Ipgd2nV8Jpgl"
      },
      "source": [
        "## The Data Science Pipeline\n",
        "\n",
        "This is Tier Three, so we'll get you started. But after that, it's all in your hands! When you feel done with your investigations, look back over what you've accomplished, and prepare a quick presentation of your findings for the next mentor meeting. \n",
        "\n",
        "Data Science is magical. In this case study, you'll get to apply some complex machine learning algorithms. But as  [David Spiegelhalter](https://www.youtube.com/watch?v=oUs1uvsz0Ok) reminds us, there is no substitute for simply **taking a really, really good look at the data.** Sometimes, this is all we need to answer our question.\n",
        "\n",
        "Data Science projects generally adhere to the four stages of Data Science Pipeline:\n",
        "1. Sourcing and loading \n",
        "2. Cleaning, transforming, and visualizing \n",
        "3. Modeling \n",
        "4. Evaluating and concluding \n"
      ]
    },
    {
      "cell_type": "markdown",
      "metadata": {
        "id": "zswDqbefJpgm"
      },
      "source": [
        "### 1. Sourcing and Loading \n",
        "\n",
        "Any Data Science project kicks off by importing  ***pandas***. The documentation of this wonderful library can be found [here](https://pandas.pydata.org/). As you've seen, pandas is conveniently connected to the [Numpy](http://www.numpy.org/) and [Matplotlib](https://matplotlib.org/) libraries. \n",
        "\n",
        "***Hint:*** This part of the data science pipeline will test those skills you acquired in the pandas Foundations course, Module One. "
      ]
    },
    {
      "cell_type": "markdown",
      "metadata": {
        "id": "aEau5nEvJpgm"
      },
      "source": [
        "#### 1.1. Importing Libraries"
      ]
    },
    {
      "cell_type": "code",
      "metadata": {
        "id": "7Bt_Q_oPJpgn"
      },
      "source": [
        "# Let's import the pandas, numpy libraries as pd, and np respectively. \n",
        "import pandas as pd\n",
        "\n",
        "# Load the pyplot collection of functions from matplotlib, as plt \n",
        "import matplotlib.pyplot as plt"
      ],
      "execution_count": null,
      "outputs": []
    },
    {
      "cell_type": "markdown",
      "metadata": {
        "id": "koUrawxsJpgq"
      },
      "source": [
        "#### 1.2.  Loading the data\n",
        "Your data comes from the [London Datastore](https://data.london.gov.uk/): a free, open-source data-sharing portal for London-oriented datasets. "
      ]
    },
    {
      "cell_type": "code",
      "metadata": {
        "id": "AiLiD4v3Jpgr"
      },
      "source": [
        "# First, make a variable called url_LondonHousePrices, and assign it the following link, enclosed in quotation-marks as a string:\n",
        "# https://data.london.gov.uk/download/uk-house-price-index/70ac0766-8902-4eb5-aab5-01951aaed773/UK%20House%20price%20index.xls\n",
        "\n",
        "url_LondonHousePrices = \"https://data.london.gov.uk/download/uk-house-price-index/70ac0766-8902-4eb5-aab5-01951aaed773/UK%20House%20price%20index.xls\"\n",
        "\n",
        "# The dataset we're interested in contains the Average prices of the houses, and is actually on a particular sheet of the Excel file. \n",
        "# As a result, we need to specify the sheet name in the read_excel() method.\n",
        "# Put this data into a variable called properties.  \n",
        "properties = pd.read_excel(url_LondonHousePrices, sheet_name='Average price', index_col= None)"
      ],
      "execution_count": null,
      "outputs": []
    },
    {
      "cell_type": "markdown",
      "metadata": {
        "id": "POukEJXgJpgu"
      },
      "source": [
        "### 2. Cleaning, transforming, and visualizing\n",
        "This second stage is arguably the most important part of any Data Science project. The first thing to do is take a proper look at the data. Cleaning forms the majority of this stage, and can be done both before or after Transformation.\n",
        "\n",
        "The end goal of data cleaning is to have tidy data. When data is tidy: \n",
        "\n",
        "1. Each variable has a column.\n",
        "2. Each observation forms a row.\n",
        "\n",
        "Keep the end goal in mind as you move through this process, every step will take you closer. \n",
        "\n",
        "\n",
        "\n",
        "***Hint:*** This part of the data science pipeline should test those skills you acquired in: \n",
        "- Intermediate Python for data science, all modules.\n",
        "- pandas Foundations, all modules. \n",
        "- Manipulating DataFrames with pandas, all modules.\n",
        "- Data Types for Data Science, Module Four.\n",
        "- Python Data Science Toolbox - Part One, all modules"
      ]
    },
    {
      "cell_type": "markdown",
      "metadata": {
        "id": "Te0Q548tnzZa"
      },
      "source": [
        "**2.1. Exploring your data** \n",
        "\n",
        "Think about your pandas functions for checking out a dataframe. "
      ]
    },
    {
      "cell_type": "code",
      "metadata": {
        "id": "Rxirxw_qoAJa",
        "colab": {
          "base_uri": "https://localhost:8080/"
        },
        "outputId": "f7578cdc-a597-4c46-8ac3-23dcc34ffe92"
      },
      "source": [
        "# Looking in to the data.\n",
        "\n",
        "print(\"PRINTING PROPERTIES INFO: \")\n",
        "print(properties.info())\n",
        "print(\"\\n\")\n",
        "\n",
        "print(\"PRINTING PROPERTIES HEAD: \")\n",
        "print(properties.head())\n",
        "print(\"\\n\")\n",
        "# A quick look at the dataframe reveals that there are a total of 49 columns, unnamed columns, NaN values, \n",
        "# column0 are months, all other columns seem to be different boroughs\n",
        "# row0 is different from the other rows. Looks like a unique value for each column of borough. \n",
        "# the values for the columns seem to represent average home prices (monthly)\n",
        "\n",
        "print(\"PRINTING PROPERTIES DESCRIBE: \")\n",
        "print(properties.describe())\n",
        "print(\"\\n\")\n",
        "# There are three numerical columns (all unnamed columns)- 34, 37, 47 with NaN values. Need to drop these columns\n",
        "\n",
        "print(\"PRINTING PROPERTIES SHAPE: \")\n",
        "print(properties.shape)\n",
        "print(\"\\n\")\n",
        "# there are 316 rows and 49 columns\n",
        "\n",
        "print(\"PRINTING PROPERTIES INDEX: \")\n",
        "print(properties.index)\n",
        "print(\"\\n\")\n",
        "# index column is default integers (0,316)\n",
        "\n",
        "print(\"PRINTING PROPERTIES COLUMNS: \")\n",
        "print(properties.columns)\n",
        "print(\"\\n\")\n",
        "# unnamed: 0 represents months, all other 48 columns represents different boroughs (with columns 34, 37, 47 unnamed)\n",
        "\n",
        "print(\"PRINTING PROPERTIES VALUEs: \")\n",
        "print(properties.values)\n",
        "# we can remove row0- doesn't add any value to our analysis.\n",
        "# 1st column is of type Timestamp, all other columns have numerical values (float)"
      ],
      "execution_count": null,
      "outputs": [
        {
          "output_type": "stream",
          "text": [
            "PRINTING PROPERTIES INFO: \n",
            "<class 'pandas.core.frame.DataFrame'>\n",
            "RangeIndex: 316 entries, 0 to 315\n",
            "Data columns (total 49 columns):\n",
            " #   Column                Non-Null Count  Dtype         \n",
            "---  ------                --------------  -----         \n",
            " 0   Unnamed: 0            315 non-null    datetime64[ns]\n",
            " 1   City of London        316 non-null    object        \n",
            " 2   Barking & Dagenham    316 non-null    object        \n",
            " 3   Barnet                316 non-null    object        \n",
            " 4   Bexley                316 non-null    object        \n",
            " 5   Brent                 316 non-null    object        \n",
            " 6   Bromley               316 non-null    object        \n",
            " 7   Camden                316 non-null    object        \n",
            " 8   Croydon               316 non-null    object        \n",
            " 9   Ealing                316 non-null    object        \n",
            " 10  Enfield               316 non-null    object        \n",
            " 11  Greenwich             316 non-null    object        \n",
            " 12  Hackney               316 non-null    object        \n",
            " 13  Hammersmith & Fulham  316 non-null    object        \n",
            " 14  Haringey              316 non-null    object        \n",
            " 15  Harrow                316 non-null    object        \n",
            " 16  Havering              316 non-null    object        \n",
            " 17  Hillingdon            316 non-null    object        \n",
            " 18  Hounslow              316 non-null    object        \n",
            " 19  Islington             316 non-null    object        \n",
            " 20  Kensington & Chelsea  316 non-null    object        \n",
            " 21  Kingston upon Thames  316 non-null    object        \n",
            " 22  Lambeth               316 non-null    object        \n",
            " 23  Lewisham              316 non-null    object        \n",
            " 24  Merton                316 non-null    object        \n",
            " 25  Newham                316 non-null    object        \n",
            " 26  Redbridge             316 non-null    object        \n",
            " 27  Richmond upon Thames  316 non-null    object        \n",
            " 28  Southwark             316 non-null    object        \n",
            " 29  Sutton                316 non-null    object        \n",
            " 30  Tower Hamlets         316 non-null    object        \n",
            " 31  Waltham Forest        316 non-null    object        \n",
            " 32  Wandsworth            316 non-null    object        \n",
            " 33  Westminster           316 non-null    object        \n",
            " 34  Unnamed: 34           0 non-null      float64       \n",
            " 35  Inner London          316 non-null    object        \n",
            " 36  Outer London          316 non-null    object        \n",
            " 37  Unnamed: 37           0 non-null      float64       \n",
            " 38  NORTH EAST            316 non-null    object        \n",
            " 39  NORTH WEST            316 non-null    object        \n",
            " 40  YORKS & THE HUMBER    316 non-null    object        \n",
            " 41  EAST MIDLANDS         316 non-null    object        \n",
            " 42  WEST MIDLANDS         316 non-null    object        \n",
            " 43  EAST OF ENGLAND       316 non-null    object        \n",
            " 44  LONDON                316 non-null    object        \n",
            " 45  SOUTH EAST            316 non-null    object        \n",
            " 46  SOUTH WEST            316 non-null    object        \n",
            " 47  Unnamed: 47           0 non-null      float64       \n",
            " 48  England               316 non-null    object        \n",
            "dtypes: datetime64[ns](1), float64(3), object(45)\n",
            "memory usage: 121.1+ KB\n",
            "None\n",
            "\n",
            "\n",
            "PRINTING PROPERTIES HEAD: \n",
            "  Unnamed: 0 City of London  ... Unnamed: 47    England\n",
            "0        NaT      E09000001  ...         NaN  E92000001\n",
            "1 1995-01-01          91449  ...         NaN    53202.8\n",
            "2 1995-02-01        82202.8  ...         NaN    53096.2\n",
            "3 1995-03-01        79120.7  ...         NaN    53201.3\n",
            "4 1995-04-01        77101.2  ...         NaN    53590.9\n",
            "\n",
            "[5 rows x 49 columns]\n",
            "\n",
            "\n",
            "PRINTING PROPERTIES DESCRIBE: \n",
            "       Unnamed: 34  Unnamed: 37  Unnamed: 47\n",
            "count          0.0          0.0          0.0\n",
            "mean           NaN          NaN          NaN\n",
            "std            NaN          NaN          NaN\n",
            "min            NaN          NaN          NaN\n",
            "25%            NaN          NaN          NaN\n",
            "50%            NaN          NaN          NaN\n",
            "75%            NaN          NaN          NaN\n",
            "max            NaN          NaN          NaN\n",
            "\n",
            "\n",
            "PRINTING PROPERTIES SHAPE: \n",
            "(316, 49)\n",
            "\n",
            "\n",
            "PRINTING PROPERTIES INDEX: \n",
            "RangeIndex(start=0, stop=316, step=1)\n",
            "\n",
            "\n",
            "PRINTING PROPERTIES COLUMNS: \n",
            "Index(['Unnamed: 0', 'City of London', 'Barking & Dagenham', 'Barnet',\n",
            "       'Bexley', 'Brent', 'Bromley', 'Camden', 'Croydon', 'Ealing', 'Enfield',\n",
            "       'Greenwich', 'Hackney', 'Hammersmith & Fulham', 'Haringey', 'Harrow',\n",
            "       'Havering', 'Hillingdon', 'Hounslow', 'Islington',\n",
            "       'Kensington & Chelsea', 'Kingston upon Thames', 'Lambeth', 'Lewisham',\n",
            "       'Merton', 'Newham', 'Redbridge', 'Richmond upon Thames', 'Southwark',\n",
            "       'Sutton', 'Tower Hamlets', 'Waltham Forest', 'Wandsworth',\n",
            "       'Westminster', 'Unnamed: 34', 'Inner London', 'Outer London',\n",
            "       'Unnamed: 37', 'NORTH EAST', 'NORTH WEST', 'YORKS & THE HUMBER',\n",
            "       'EAST MIDLANDS', 'WEST MIDLANDS', 'EAST OF ENGLAND', 'LONDON',\n",
            "       'SOUTH EAST', 'SOUTH WEST', 'Unnamed: 47', 'England'],\n",
            "      dtype='object')\n",
            "\n",
            "\n",
            "PRINTING PROPERTIES VALUEs: \n",
            "[[NaT 'E09000001' 'E09000002' ... 'E12000009' nan 'E92000001']\n",
            " [Timestamp('1995-01-01 00:00:00') 91448.98487 50460.2266 ... 54705.1579\n",
            "  nan 53202.77128]\n",
            " [Timestamp('1995-02-01 00:00:00') 82202.77314 51085.77983 ...\n",
            "  54356.14843 nan 53096.1549]\n",
            " ...\n",
            " [Timestamp('2021-01-01 00:00:00') 762756.6049 314068.1054 ...\n",
            "  278722.6704 nan 267675.2146]\n",
            " [Timestamp('2021-02-01 00:00:00') 744323.5882 319588.7141 ...\n",
            "  280372.7523 nan 269976.0467]\n",
            " [Timestamp('2021-03-01 00:00:00') 864353.5338 317184.7975 ...\n",
            "  287649.7245 nan 274615.3652]]\n"
          ],
          "name": "stdout"
        }
      ]
    },
    {
      "cell_type": "markdown",
      "metadata": {
        "id": "tE9Sqt9-oAta"
      },
      "source": [
        "**2.2. Cleaning the data**\n",
        "\n",
        "You might find you need to transpose your dataframe, check out what its row indexes are, and reset the index. You  also might find you need to assign the values of the first row to your column headings  . (Hint: recall the .columns feature of DataFrames, as well as the iloc[] method).\n",
        "\n",
        "Don't be afraid to use StackOverflow for help  with this."
      ]
    },
    {
      "cell_type": "markdown",
      "metadata": {
        "id": "o1uLbJAsoIjK"
      },
      "source": [
        "**2.3. Cleaning the data (part 2)**\n",
        "\n",
        "You might we have to **rename** a couple columns. How do you do this? The clue's pretty bold..."
      ]
    },
    {
      "cell_type": "markdown",
      "metadata": {
        "id": "jy8BzXHmoWEw"
      },
      "source": [
        "**2.4.Transforming the data**\n",
        "\n",
        "Remember what Wes McKinney said about tidy data? \n",
        "\n",
        "You might need to **melt** your DataFrame here. "
      ]
    },
    {
      "cell_type": "markdown",
      "metadata": {
        "id": "7kIsgAo7o3mf"
      },
      "source": [
        "Remember to make sure your column data types are all correct. Average prices, for example, should be floating point numbers... "
      ]
    },
    {
      "cell_type": "markdown",
      "metadata": {
        "id": "knLUXHLypOtw"
      },
      "source": [
        "**2.5. Cleaning the data (part 3)**\n",
        "\n",
        "Do we have an equal number of observations in the ID, Average Price, Month, and London Borough columns? Remember that there are only 32 London Boroughs. How many entries do you have in that column? \n",
        "\n",
        "Check out the contents of the London Borough column, and if you find null values, get rid of them however you see fit. "
      ]
    },
    {
      "cell_type": "code",
      "metadata": {
        "id": "GKkmn1AnoVZS",
        "colab": {
          "base_uri": "https://localhost:8080/"
        },
        "outputId": "500b7a1c-5171-4e20-f557-f644c3ebf693"
      },
      "source": [
        "# drop 34, 37, 47 columns\n",
        "properties.drop(properties.columns[[34, 37, 47]], axis = 1, inplace = True)\n",
        "print(properties.columns)"
      ],
      "execution_count": null,
      "outputs": [
        {
          "output_type": "stream",
          "text": [
            "Index(['Unnamed: 0', 'City of London', 'Barking & Dagenham', 'Barnet',\n",
            "       'Bexley', 'Brent', 'Bromley', 'Camden', 'Croydon', 'Ealing', 'Enfield',\n",
            "       'Greenwich', 'Hackney', 'Hammersmith & Fulham', 'Haringey', 'Harrow',\n",
            "       'Havering', 'Hillingdon', 'Hounslow', 'Islington',\n",
            "       'Kensington & Chelsea', 'Kingston upon Thames', 'Lambeth', 'Lewisham',\n",
            "       'Merton', 'Newham', 'Redbridge', 'Richmond upon Thames', 'Southwark',\n",
            "       'Sutton', 'Tower Hamlets', 'Waltham Forest', 'Wandsworth',\n",
            "       'Westminster', 'Inner London', 'Outer London', 'NORTH EAST',\n",
            "       'NORTH WEST', 'YORKS & THE HUMBER', 'EAST MIDLANDS', 'WEST MIDLANDS',\n",
            "       'EAST OF ENGLAND', 'LONDON', 'SOUTH EAST', 'SOUTH WEST', 'England'],\n",
            "      dtype='object')\n"
          ],
          "name": "stdout"
        }
      ]
    },
    {
      "cell_type": "code",
      "metadata": {
        "colab": {
          "base_uri": "https://localhost:8080/"
        },
        "id": "_HTl3zkK7tuN",
        "outputId": "e656b4dc-8018-4d4c-85b3-ebc684d6cf1c"
      },
      "source": [
        "print(properties.iloc[0])"
      ],
      "execution_count": null,
      "outputs": [
        {
          "output_type": "stream",
          "text": [
            "Unnamed: 0                    NaT\n",
            "City of London          E09000001\n",
            "Barking & Dagenham      E09000002\n",
            "Barnet                  E09000003\n",
            "Bexley                  E09000004\n",
            "Brent                   E09000005\n",
            "Bromley                 E09000006\n",
            "Camden                  E09000007\n",
            "Croydon                 E09000008\n",
            "Ealing                  E09000009\n",
            "Enfield                 E09000010\n",
            "Greenwich               E09000011\n",
            "Hackney                 E09000012\n",
            "Hammersmith & Fulham    E09000013\n",
            "Haringey                E09000014\n",
            "Harrow                  E09000015\n",
            "Havering                E09000016\n",
            "Hillingdon              E09000017\n",
            "Hounslow                E09000018\n",
            "Islington               E09000019\n",
            "Kensington & Chelsea    E09000020\n",
            "Kingston upon Thames    E09000021\n",
            "Lambeth                 E09000022\n",
            "Lewisham                E09000023\n",
            "Merton                  E09000024\n",
            "Newham                  E09000025\n",
            "Redbridge               E09000026\n",
            "Richmond upon Thames    E09000027\n",
            "Southwark               E09000028\n",
            "Sutton                  E09000029\n",
            "Tower Hamlets           E09000030\n",
            "Waltham Forest          E09000031\n",
            "Wandsworth              E09000032\n",
            "Westminster             E09000033\n",
            "Inner London            E13000001\n",
            "Outer London            E13000002\n",
            "NORTH EAST              E12000001\n",
            "NORTH WEST              E12000002\n",
            "YORKS & THE HUMBER      E12000003\n",
            "EAST MIDLANDS           E12000004\n",
            "WEST MIDLANDS           E12000005\n",
            "EAST OF ENGLAND         E12000006\n",
            "LONDON                  E12000007\n",
            "SOUTH EAST              E12000008\n",
            "SOUTH WEST              E12000009\n",
            "England                 E92000001\n",
            "Name: 0, dtype: object\n"
          ],
          "name": "stdout"
        }
      ]
    },
    {
      "cell_type": "code",
      "metadata": {
        "colab": {
          "base_uri": "https://localhost:8080/"
        },
        "id": "0NSirtVT5wTI",
        "outputId": "e1bff264-52f5-4b32-b3bd-af64aacc8281"
      },
      "source": [
        "# rename column names to title style\n",
        "properties.columns = [x.title() for x in properties.columns]\n",
        "print(properties.columns)"
      ],
      "execution_count": null,
      "outputs": [
        {
          "output_type": "stream",
          "text": [
            "Index(['Unnamed: 0', 'City Of London', 'Barking & Dagenham', 'Barnet',\n",
            "       'Bexley', 'Brent', 'Bromley', 'Camden', 'Croydon', 'Ealing', 'Enfield',\n",
            "       'Greenwich', 'Hackney', 'Hammersmith & Fulham', 'Haringey', 'Harrow',\n",
            "       'Havering', 'Hillingdon', 'Hounslow', 'Islington',\n",
            "       'Kensington & Chelsea', 'Kingston Upon Thames', 'Lambeth', 'Lewisham',\n",
            "       'Merton', 'Newham', 'Redbridge', 'Richmond Upon Thames', 'Southwark',\n",
            "       'Sutton', 'Tower Hamlets', 'Waltham Forest', 'Wandsworth',\n",
            "       'Westminster', 'Inner London', 'Outer London', 'North East',\n",
            "       'North West', 'Yorks & The Humber', 'East Midlands', 'West Midlands',\n",
            "       'East Of England', 'London', 'South East', 'South West', 'England'],\n",
            "      dtype='object')\n"
          ],
          "name": "stdout"
        }
      ]
    },
    {
      "cell_type": "code",
      "metadata": {
        "colab": {
          "base_uri": "https://localhost:8080/"
        },
        "id": "dvRcqKS88w7q",
        "outputId": "d299251a-6f0c-4a33-b221-09ffc766001a"
      },
      "source": [
        "# let's transpose the dataframe\n",
        "properties = properties.transpose()\n",
        "print(properties.head())"
      ],
      "execution_count": null,
      "outputs": [
        {
          "output_type": "stream",
          "text": [
            "                          0    ...                  315\n",
            "Unnamed: 0                NaT  ...  2021-03-01 00:00:00\n",
            "City Of London      E09000001  ...               864354\n",
            "Barking & Dagenham  E09000002  ...               317185\n",
            "Barnet              E09000003  ...               534005\n",
            "Bexley              E09000004  ...               367015\n",
            "\n",
            "[5 rows x 316 columns]\n"
          ],
          "name": "stdout"
        }
      ]
    },
    {
      "cell_type": "code",
      "metadata": {
        "colab": {
          "base_uri": "https://localhost:8080/"
        },
        "id": "ejoypTXt8x7E",
        "outputId": "3cda4089-ffa7-456b-ac3a-62bdbc864c21"
      },
      "source": [
        "# check for any null values\n",
        "properties.isna().sum().sort_values()\n",
        "# only one null value 'NaT'- not a timestamp"
      ],
      "execution_count": null,
      "outputs": [
        {
          "output_type": "execute_result",
          "data": {
            "text/plain": [
              "157    0\n",
              "214    0\n",
              "213    0\n",
              "212    0\n",
              "211    0\n",
              "      ..\n",
              "102    0\n",
              "101    0\n",
              "100    0\n",
              "107    0\n",
              "0      1\n",
              "Length: 316, dtype: int64"
            ]
          },
          "metadata": {
            "tags": []
          },
          "execution_count": 1594
        }
      ]
    },
    {
      "cell_type": "code",
      "metadata": {
        "colab": {
          "base_uri": "https://localhost:8080/"
        },
        "id": "CS1xPajw9Y1P",
        "outputId": "b062454c-b371-4916-988f-2ae4ac90631c"
      },
      "source": [
        "# fill NaT with id\n",
        "properties.fillna('id', inplace=True)\n",
        "print(properties.iloc[0,0])"
      ],
      "execution_count": null,
      "outputs": [
        {
          "output_type": "stream",
          "text": [
            "id\n"
          ],
          "name": "stdout"
        }
      ]
    },
    {
      "cell_type": "code",
      "metadata": {
        "colab": {
          "base_uri": "https://localhost:8080/"
        },
        "id": "kQ-NhT2G9rpy",
        "outputId": "deb8b474-08c2-477a-ddc8-43bcd031e211"
      },
      "source": [
        "# replace dates with only year and month\n",
        "properties.iloc[0,1:] = [str(x.year)+'-'+str(x.month) for x in properties.iloc[0,1:]] \n",
        "# convert row0 to columns\n",
        "properties.columns = properties.iloc[0]\n",
        "# rename column axis to none\n",
        "properties.rename_axis(None, axis=1, inplace=True)\n",
        "print(properties.columns)"
      ],
      "execution_count": null,
      "outputs": [
        {
          "output_type": "stream",
          "text": [
            "Index(['id', '1995-1', '1995-2', '1995-3', '1995-4', '1995-5', '1995-6',\n",
            "       '1995-7', '1995-8', '1995-9',\n",
            "       ...\n",
            "       '2020-6', '2020-7', '2020-8', '2020-9', '2020-10', '2020-11', '2020-12',\n",
            "       '2021-1', '2021-2', '2021-3'],\n",
            "      dtype='object', length=316)\n"
          ],
          "name": "stdout"
        }
      ]
    },
    {
      "cell_type": "code",
      "metadata": {
        "colab": {
          "base_uri": "https://localhost:8080/"
        },
        "id": "FcJgLVoiEp4J",
        "outputId": "ee00bf21-9e6d-4993-ad64-d7f9c52abd77"
      },
      "source": [
        "#drop rows with ids = ['E09000001',starting with other than E09]\n",
        "properties = properties[properties['id']!='E09000001']\n",
        "print(properties.head())\n",
        "properties = properties[properties['id'].str[0:3]=='E09'] # this also removes the first row\n",
        "print(properties)"
      ],
      "execution_count": null,
      "outputs": [
        {
          "output_type": "stream",
          "text": [
            "                           id   1995-1   1995-2  ...  2021-1  2021-2  2021-3\n",
            "Unnamed: 0                 id   1995-1   1995-2  ...  2021-1  2021-2  2021-3\n",
            "Barking & Dagenham  E09000002  50460.2  51085.8  ...  314068  319589  317185\n",
            "Barnet              E09000003  93284.5  93190.2  ...  541622  536096  534005\n",
            "Bexley              E09000004  64958.1  64787.9  ...  358243  361861  367015\n",
            "Brent               E09000005  71306.6  72022.3  ...  508184  513426  510533\n",
            "\n",
            "[5 rows x 316 columns]\n",
            "                             id   1995-1  ...       2021-2       2021-3\n",
            "Barking & Dagenham    E09000002  50460.2  ...       319589       317185\n",
            "Barnet                E09000003  93284.5  ...       536096       534005\n",
            "Bexley                E09000004  64958.1  ...       361861       367015\n",
            "Brent                 E09000005  71306.6  ...       513426       510533\n",
            "Bromley               E09000006  81671.5  ...       461773       463226\n",
            "Camden                E09000007   120933  ...       820738       796442\n",
            "Croydon               E09000008  69158.2  ...       389487       385345\n",
            "Ealing                E09000009  79885.9  ...       497977       490426\n",
            "Enfield               E09000010  72514.7  ...       416895       428257\n",
            "Greenwich             E09000011  62300.1  ...       412010       416306\n",
            "Hackney               E09000012  61296.5  ...       602497       604466\n",
            "Hammersmith & Fulham  E09000013   124903  ...       728182       804517\n",
            "Haringey              E09000014  76287.6  ...       593326       607029\n",
            "Harrow                E09000015  84769.5  ...       480006       479417\n",
            "Havering              E09000016  68000.1  ...       385328       390902\n",
            "Hillingdon            E09000017  73834.8  ...       428206       419408\n",
            "Hounslow              E09000018  72231.7  ...       429200       423197\n",
            "Islington             E09000019  92516.5  ...       689965       682485\n",
            "Kensington & Chelsea  E09000020   182695  ...  1.26564e+06  1.33213e+06\n",
            "Kingston Upon Thames  E09000021  80875.8  ...       503586       511318\n",
            "Lambeth               E09000022    67771  ...       533049       530046\n",
            "Lewisham              E09000023  60491.3  ...       445113       432500\n",
            "Merton                E09000024  82070.6  ...       555453       557445\n",
            "Newham                E09000025  53539.3  ...       392522       378862\n",
            "Redbridge             E09000026  72189.6  ...       460039       454415\n",
            "Richmond Upon Thames  E09000027   109326  ...       695311       690985\n",
            "Southwark             E09000028  67885.2  ...       526824       508423\n",
            "Sutton                E09000029    71537  ...       399334       395397\n",
            "Tower Hamlets         E09000030  59865.2  ...       468039       496247\n",
            "Waltham Forest        E09000031  61319.4  ...       479292       490895\n",
            "Wandsworth            E09000032    88559  ...       603480       598279\n",
            "Westminster           E09000033   133025  ...       949258       927993\n",
            "\n",
            "[32 rows x 316 columns]\n"
          ],
          "name": "stdout"
        }
      ]
    },
    {
      "cell_type": "code",
      "metadata": {
        "colab": {
          "base_uri": "https://localhost:8080/"
        },
        "id": "crnltJ2qIW3o",
        "outputId": "7f7b81fa-7b49-40e6-ba4a-e0aa580309cc"
      },
      "source": [
        "#check datatypes of each column\n",
        "properties.dtypes"
      ],
      "execution_count": null,
      "outputs": [
        {
          "output_type": "execute_result",
          "data": {
            "text/plain": [
              "id         object\n",
              "1995-1     object\n",
              "1995-2     object\n",
              "1995-3     object\n",
              "1995-4     object\n",
              "            ...  \n",
              "2020-11    object\n",
              "2020-12    object\n",
              "2021-1     object\n",
              "2021-2     object\n",
              "2021-3     object\n",
              "Length: 316, dtype: object"
            ]
          },
          "metadata": {
            "tags": []
          },
          "execution_count": 1598
        }
      ]
    },
    {
      "cell_type": "code",
      "metadata": {
        "colab": {
          "base_uri": "https://localhost:8080/"
        },
        "id": "IZl5tqj7IduX",
        "outputId": "2380b9dd-d4e9-4761-c126-49638a2e3ab8"
      },
      "source": [
        "#change first column to str and others to float\n",
        "properties.reset_index(inplace=True)\n",
        "properties.rename(columns = {'index':'borough_name'}, inplace = True)\n",
        "properties[['id','borough_name']] = properties[['id','borough_name']].astype('str')\n",
        "properties.iloc[:,2:] = properties.iloc[:,2:].astype('float32')\n",
        "\n",
        "# #look at all the datatypes to make sure they are what we want\n",
        "print(properties.dtypes) #still shows object"
      ],
      "execution_count": null,
      "outputs": [
        {
          "output_type": "stream",
          "text": [
            "borough_name    object\n",
            "id              object\n",
            "1995-1          object\n",
            "1995-2          object\n",
            "1995-3          object\n",
            "                 ...  \n",
            "2020-11         object\n",
            "2020-12         object\n",
            "2021-1          object\n",
            "2021-2          object\n",
            "2021-3          object\n",
            "Length: 317, dtype: object\n"
          ],
          "name": "stdout"
        }
      ]
    },
    {
      "cell_type": "code",
      "metadata": {
        "colab": {
          "base_uri": "https://localhost:8080/"
        },
        "id": "Td0X_cCHc8Pn",
        "outputId": "c9f22fe7-8e73-493d-c098-34e1813692ed"
      },
      "source": [
        "print(type(properties.iloc[0,0])) # data is in str format\n",
        "print(type(properties.iloc[0,1])) # data is in str format\n",
        "print(type(properties.iloc[0,2])) # data is in float format"
      ],
      "execution_count": null,
      "outputs": [
        {
          "output_type": "stream",
          "text": [
            "<class 'str'>\n",
            "<class 'str'>\n",
            "<class 'float'>\n"
          ],
          "name": "stdout"
        }
      ]
    },
    {
      "cell_type": "code",
      "metadata": {
        "colab": {
          "base_uri": "https://localhost:8080/",
          "height": 419
        },
        "id": "kSyZRt_hlxQ0",
        "outputId": "35c8e16d-1bf2-4908-d587-faaadeea3316"
      },
      "source": [
        "# melt to make further analysis easy\n",
        "properties = properties.melt(id_vars=['borough_name','id'],value_vars=properties.columns[2:],var_name='month',value_name='avg_price')\n",
        "properties.infer_objects()"
      ],
      "execution_count": null,
      "outputs": [
        {
          "output_type": "execute_result",
          "data": {
            "text/html": [
              "<div>\n",
              "<style scoped>\n",
              "    .dataframe tbody tr th:only-of-type {\n",
              "        vertical-align: middle;\n",
              "    }\n",
              "\n",
              "    .dataframe tbody tr th {\n",
              "        vertical-align: top;\n",
              "    }\n",
              "\n",
              "    .dataframe thead th {\n",
              "        text-align: right;\n",
              "    }\n",
              "</style>\n",
              "<table border=\"1\" class=\"dataframe\">\n",
              "  <thead>\n",
              "    <tr style=\"text-align: right;\">\n",
              "      <th></th>\n",
              "      <th>borough_name</th>\n",
              "      <th>id</th>\n",
              "      <th>month</th>\n",
              "      <th>avg_price</th>\n",
              "    </tr>\n",
              "  </thead>\n",
              "  <tbody>\n",
              "    <tr>\n",
              "      <th>0</th>\n",
              "      <td>Barking &amp; Dagenham</td>\n",
              "      <td>E09000002</td>\n",
              "      <td>1995-1</td>\n",
              "      <td>50460.226562</td>\n",
              "    </tr>\n",
              "    <tr>\n",
              "      <th>1</th>\n",
              "      <td>Barnet</td>\n",
              "      <td>E09000003</td>\n",
              "      <td>1995-1</td>\n",
              "      <td>93284.515625</td>\n",
              "    </tr>\n",
              "    <tr>\n",
              "      <th>2</th>\n",
              "      <td>Bexley</td>\n",
              "      <td>E09000004</td>\n",
              "      <td>1995-1</td>\n",
              "      <td>64958.089844</td>\n",
              "    </tr>\n",
              "    <tr>\n",
              "      <th>3</th>\n",
              "      <td>Brent</td>\n",
              "      <td>E09000005</td>\n",
              "      <td>1995-1</td>\n",
              "      <td>71306.570312</td>\n",
              "    </tr>\n",
              "    <tr>\n",
              "      <th>4</th>\n",
              "      <td>Bromley</td>\n",
              "      <td>E09000006</td>\n",
              "      <td>1995-1</td>\n",
              "      <td>81671.476562</td>\n",
              "    </tr>\n",
              "    <tr>\n",
              "      <th>...</th>\n",
              "      <td>...</td>\n",
              "      <td>...</td>\n",
              "      <td>...</td>\n",
              "      <td>...</td>\n",
              "    </tr>\n",
              "    <tr>\n",
              "      <th>10075</th>\n",
              "      <td>Sutton</td>\n",
              "      <td>E09000029</td>\n",
              "      <td>2021-3</td>\n",
              "      <td>395397.093750</td>\n",
              "    </tr>\n",
              "    <tr>\n",
              "      <th>10076</th>\n",
              "      <td>Tower Hamlets</td>\n",
              "      <td>E09000030</td>\n",
              "      <td>2021-3</td>\n",
              "      <td>496246.718750</td>\n",
              "    </tr>\n",
              "    <tr>\n",
              "      <th>10077</th>\n",
              "      <td>Waltham Forest</td>\n",
              "      <td>E09000031</td>\n",
              "      <td>2021-3</td>\n",
              "      <td>490895.156250</td>\n",
              "    </tr>\n",
              "    <tr>\n",
              "      <th>10078</th>\n",
              "      <td>Wandsworth</td>\n",
              "      <td>E09000032</td>\n",
              "      <td>2021-3</td>\n",
              "      <td>598279.437500</td>\n",
              "    </tr>\n",
              "    <tr>\n",
              "      <th>10079</th>\n",
              "      <td>Westminster</td>\n",
              "      <td>E09000033</td>\n",
              "      <td>2021-3</td>\n",
              "      <td>927993.312500</td>\n",
              "    </tr>\n",
              "  </tbody>\n",
              "</table>\n",
              "<p>10080 rows × 4 columns</p>\n",
              "</div>"
            ],
            "text/plain": [
              "             borough_name         id   month      avg_price\n",
              "0      Barking & Dagenham  E09000002  1995-1   50460.226562\n",
              "1                  Barnet  E09000003  1995-1   93284.515625\n",
              "2                  Bexley  E09000004  1995-1   64958.089844\n",
              "3                   Brent  E09000005  1995-1   71306.570312\n",
              "4                 Bromley  E09000006  1995-1   81671.476562\n",
              "...                   ...        ...     ...            ...\n",
              "10075              Sutton  E09000029  2021-3  395397.093750\n",
              "10076       Tower Hamlets  E09000030  2021-3  496246.718750\n",
              "10077      Waltham Forest  E09000031  2021-3  490895.156250\n",
              "10078          Wandsworth  E09000032  2021-3  598279.437500\n",
              "10079         Westminster  E09000033  2021-3  927993.312500\n",
              "\n",
              "[10080 rows x 4 columns]"
            ]
          },
          "metadata": {
            "tags": []
          },
          "execution_count": 1601
        }
      ]
    },
    {
      "cell_type": "markdown",
      "metadata": {
        "id": "PGEx6mJsp6dG"
      },
      "source": [
        "**2.6. Visualizing the data**\n",
        "\n",
        "To visualize the data, why not subset on a particular London Borough? Maybe do a line plot of Month against Average Price?"
      ]
    },
    {
      "cell_type": "code",
      "metadata": {
        "id": "nAg5pT9cqHAR",
        "colab": {
          "base_uri": "https://localhost:8080/",
          "height": 295
        },
        "outputId": "42bd4d8c-5ee4-48fd-8b91-2b7c9acf3a01"
      },
      "source": [
        "properties.query(\"id=='E09000002'\").plot(x = 'month', y='avg_price' ,xlabel=\"Month\", ylabel='Average Price', title = 'Average Price of {}'.format(properties['borough_name'][0]))\n",
        "plt.show()"
      ],
      "execution_count": null,
      "outputs": [
        {
          "output_type": "display_data",
          "data": {
            "image/png": "[encoded data removed]",
            "text/plain": [
              "<Figure size 432x288 with 1 Axes>"
            ]
          },
          "metadata": {
            "tags": [],
            "needs_background": "light"
          }
        }
      ]
    },
    {
      "cell_type": "markdown",
      "metadata": {
        "id": "aWTPqSJeqHnC"
      },
      "source": [
        "To limit the number of data points you have, you might want to extract the year from every month value your *Month* column. \n",
        "\n",
        "To this end, you *could* apply a ***lambda function***. Your logic could work as follows:\n",
        "1. look through the `Month` column\n",
        "2. extract the year from each individual value in that column \n",
        "3. store that corresponding year as separate column. \n",
        "\n",
        "Whether you go ahead with this is up to you. Just so long as you answer our initial brief: which boroughs of London have seen the greatest house price increase, on average, over the past two decades? "
      ]
    },
    {
      "cell_type": "code",
      "metadata": {
        "id": "e0DF92cyqnu8",
        "colab": {
          "base_uri": "https://localhost:8080/",
          "height": 419
        },
        "outputId": "9bd5a853-b369-440d-d4f8-ed710cec7a26"
      },
      "source": [
        "# create a year column using lambda function\n",
        "properties['year'] = properties.apply(lambda x: x['month'][:4], axis=1)\n",
        "properties.infer_objects()"
      ],
      "execution_count": null,
      "outputs": [
        {
          "output_type": "execute_result",
          "data": {
            "text/html": [
              "<div>\n",
              "<style scoped>\n",
              "    .dataframe tbody tr th:only-of-type {\n",
              "        vertical-align: middle;\n",
              "    }\n",
              "\n",
              "    .dataframe tbody tr th {\n",
              "        vertical-align: top;\n",
              "    }\n",
              "\n",
              "    .dataframe thead th {\n",
              "        text-align: right;\n",
              "    }\n",
              "</style>\n",
              "<table border=\"1\" class=\"dataframe\">\n",
              "  <thead>\n",
              "    <tr style=\"text-align: right;\">\n",
              "      <th></th>\n",
              "      <th>borough_name</th>\n",
              "      <th>id</th>\n",
              "      <th>month</th>\n",
              "      <th>avg_price</th>\n",
              "      <th>year</th>\n",
              "    </tr>\n",
              "  </thead>\n",
              "  <tbody>\n",
              "    <tr>\n",
              "      <th>0</th>\n",
              "      <td>Barking &amp; Dagenham</td>\n",
              "      <td>E09000002</td>\n",
              "      <td>1995-1</td>\n",
              "      <td>50460.226562</td>\n",
              "      <td>1995</td>\n",
              "    </tr>\n",
              "    <tr>\n",
              "      <th>1</th>\n",
              "      <td>Barnet</td>\n",
              "      <td>E09000003</td>\n",
              "      <td>1995-1</td>\n",
              "      <td>93284.515625</td>\n",
              "      <td>1995</td>\n",
              "    </tr>\n",
              "    <tr>\n",
              "      <th>2</th>\n",
              "      <td>Bexley</td>\n",
              "      <td>E09000004</td>\n",
              "      <td>1995-1</td>\n",
              "      <td>64958.089844</td>\n",
              "      <td>1995</td>\n",
              "    </tr>\n",
              "    <tr>\n",
              "      <th>3</th>\n",
              "      <td>Brent</td>\n",
              "      <td>E09000005</td>\n",
              "      <td>1995-1</td>\n",
              "      <td>71306.570312</td>\n",
              "      <td>1995</td>\n",
              "    </tr>\n",
              "    <tr>\n",
              "      <th>4</th>\n",
              "      <td>Bromley</td>\n",
              "      <td>E09000006</td>\n",
              "      <td>1995-1</td>\n",
              "      <td>81671.476562</td>\n",
              "      <td>1995</td>\n",
              "    </tr>\n",
              "    <tr>\n",
              "      <th>...</th>\n",
              "      <td>...</td>\n",
              "      <td>...</td>\n",
              "      <td>...</td>\n",
              "      <td>...</td>\n",
              "      <td>...</td>\n",
              "    </tr>\n",
              "    <tr>\n",
              "      <th>10075</th>\n",
              "      <td>Sutton</td>\n",
              "      <td>E09000029</td>\n",
              "      <td>2021-3</td>\n",
              "      <td>395397.093750</td>\n",
              "      <td>2021</td>\n",
              "    </tr>\n",
              "    <tr>\n",
              "      <th>10076</th>\n",
              "      <td>Tower Hamlets</td>\n",
              "      <td>E09000030</td>\n",
              "      <td>2021-3</td>\n",
              "      <td>496246.718750</td>\n",
              "      <td>2021</td>\n",
              "    </tr>\n",
              "    <tr>\n",
              "      <th>10077</th>\n",
              "      <td>Waltham Forest</td>\n",
              "      <td>E09000031</td>\n",
              "      <td>2021-3</td>\n",
              "      <td>490895.156250</td>\n",
              "      <td>2021</td>\n",
              "    </tr>\n",
              "    <tr>\n",
              "      <th>10078</th>\n",
              "      <td>Wandsworth</td>\n",
              "      <td>E09000032</td>\n",
              "      <td>2021-3</td>\n",
              "      <td>598279.437500</td>\n",
              "      <td>2021</td>\n",
              "    </tr>\n",
              "    <tr>\n",
              "      <th>10079</th>\n",
              "      <td>Westminster</td>\n",
              "      <td>E09000033</td>\n",
              "      <td>2021-3</td>\n",
              "      <td>927993.312500</td>\n",
              "      <td>2021</td>\n",
              "    </tr>\n",
              "  </tbody>\n",
              "</table>\n",
              "<p>10080 rows × 5 columns</p>\n",
              "</div>"
            ],
            "text/plain": [
              "             borough_name         id   month      avg_price  year\n",
              "0      Barking & Dagenham  E09000002  1995-1   50460.226562  1995\n",
              "1                  Barnet  E09000003  1995-1   93284.515625  1995\n",
              "2                  Bexley  E09000004  1995-1   64958.089844  1995\n",
              "3                   Brent  E09000005  1995-1   71306.570312  1995\n",
              "4                 Bromley  E09000006  1995-1   81671.476562  1995\n",
              "...                   ...        ...     ...            ...   ...\n",
              "10075              Sutton  E09000029  2021-3  395397.093750  2021\n",
              "10076       Tower Hamlets  E09000030  2021-3  496246.718750  2021\n",
              "10077      Waltham Forest  E09000031  2021-3  490895.156250  2021\n",
              "10078          Wandsworth  E09000032  2021-3  598279.437500  2021\n",
              "10079         Westminster  E09000033  2021-3  927993.312500  2021\n",
              "\n",
              "[10080 rows x 5 columns]"
            ]
          },
          "metadata": {
            "tags": []
          },
          "execution_count": 1603
        }
      ]
    },
    {
      "cell_type": "markdown",
      "metadata": {
        "id": "2knuTxAEqoJ4"
      },
      "source": [
        "**3. Modeling**\n",
        "\n",
        "Consider creating a function that will calculate a ratio of house prices, comparing the price of a house in 2018 to the price in 1998.\n",
        "\n",
        "Consider calling this function create_price_ratio.\n",
        "\n",
        "You'd want this function to:\n",
        "1. Take a filter of dfg, specifically where this filter constrains the London_Borough, as an argument. For example, one admissible argument should be: dfg[dfg['London_Borough']=='Camden'].\n",
        "2. Get the Average Price for that Borough, for the years 1998 and 2018.\n",
        "4. Calculate the ratio of the Average Price for 1998 divided by the Average Price for 2018.\n",
        "5. Return that ratio.\n",
        "\n",
        "Once you've written this function, you ultimately want to use it to iterate through all the unique London_Boroughs and work out the ratio capturing the difference of house prices between 1998 and 2018.\n",
        "\n",
        "Bear in mind: you don't have to write a function like this if you don't want to. If you can solve the brief otherwise, then great! \n",
        "\n",
        "***Hint***: This section should test the skills you acquired in:\n",
        "- Python Data Science Toolbox - Part One, all modules"
      ]
    },
    {
      "cell_type": "code",
      "metadata": {
        "id": "cKTyr437UgDa",
        "colab": {
          "base_uri": "https://localhost:8080/"
        },
        "outputId": "c128d9b7-5b49-4e62-89ce-90830caf3d1f"
      },
      "source": [
        "# avg_price is an object instead of float\n",
        "properties['avg_price'] = properties['avg_price'].astype('float32') \n",
        "\n",
        "properties_1995 = properties[properties['year']=='1995'].groupby(['borough_name','year'])['avg_price'].mean().reset_index()\n",
        "properties_2021 = properties[properties['year']=='2021'].groupby(['borough_name','year'])['avg_price'].mean().reset_index()\n",
        "\n",
        "properties_ratio = properties_2021['avg_price']/properties_1995['avg_price']\n",
        "properties_ratio.index = properties_1995['borough_name']\n",
        "properties_ratio.name = (\"ratio\")\n",
        "print(properties_ratio)"
      ],
      "execution_count": null,
      "outputs": [
        {
          "output_type": "stream",
          "text": [
            "borough_name\n",
            "Barking & Dagenham      6.116550\n",
            "Barnet                  5.852775\n",
            "Bexley                  5.636401\n",
            "Brent                   6.993230\n",
            "Bromley                 5.629200\n",
            "Camden                  6.739709\n",
            "Croydon                 5.618013\n",
            "Ealing                  6.106422\n",
            "Enfield                 5.850577\n",
            "Greenwich               6.510927\n",
            "Hackney                 9.128484\n",
            "Hammersmith & Fulham    6.149555\n",
            "Haringey                7.465315\n",
            "Harrow                  5.727427\n",
            "Havering                5.655476\n",
            "Hillingdon              5.758743\n",
            "Hounslow                5.869730\n",
            "Islington               7.182732\n",
            "Kensington & Chelsea    6.799087\n",
            "Kingston Upon Thames    6.123480\n",
            "Lambeth                 7.865077\n",
            "Lewisham                7.487161\n",
            "Merton                  6.912218\n",
            "Newham                  7.073310\n",
            "Redbridge               6.303797\n",
            "Richmond Upon Thames    6.337821\n",
            "Southwark               8.176851\n",
            "Sutton                  5.644446\n",
            "Tower Hamlets           7.469633\n",
            "Waltham Forest          7.863116\n",
            "Wandsworth              6.797161\n",
            "Westminster             7.032517\n",
            "Name: ratio, dtype: float32\n"
          ],
          "name": "stdout"
        }
      ]
    },
    {
      "cell_type": "code",
      "metadata": {
        "colab": {
          "base_uri": "https://localhost:8080/"
        },
        "id": "qF4SIKKdbl0V",
        "outputId": "8debf730-9798-4206-89a5-6e186259d33a"
      },
      "source": [
        "print(properties_ratio.sort_values(ascending=False))"
      ],
      "execution_count": null,
      "outputs": [
        {
          "output_type": "stream",
          "text": [
            "borough_name\n",
            "Hackney                 9.128484\n",
            "Southwark               8.176851\n",
            "Lambeth                 7.865077\n",
            "Waltham Forest          7.863116\n",
            "Lewisham                7.487161\n",
            "Tower Hamlets           7.469633\n",
            "Haringey                7.465315\n",
            "Islington               7.182732\n",
            "Newham                  7.073310\n",
            "Westminster             7.032517\n",
            "Brent                   6.993230\n",
            "Merton                  6.912218\n",
            "Kensington & Chelsea    6.799087\n",
            "Wandsworth              6.797161\n",
            "Camden                  6.739709\n",
            "Greenwich               6.510927\n",
            "Richmond Upon Thames    6.337821\n",
            "Redbridge               6.303797\n",
            "Hammersmith & Fulham    6.149555\n",
            "Kingston Upon Thames    6.123480\n",
            "Barking & Dagenham      6.116550\n",
            "Ealing                  6.106422\n",
            "Hounslow                5.869730\n",
            "Barnet                  5.852775\n",
            "Enfield                 5.850577\n",
            "Hillingdon              5.758743\n",
            "Harrow                  5.727427\n",
            "Havering                5.655476\n",
            "Sutton                  5.644446\n",
            "Bexley                  5.636401\n",
            "Bromley                 5.629200\n",
            "Croydon                 5.618013\n",
            "Name: ratio, dtype: float32\n"
          ],
          "name": "stdout"
        }
      ]
    },
    {
      "cell_type": "code",
      "metadata": {
        "colab": {
          "base_uri": "https://localhost:8080/",
          "height": 407
        },
        "id": "GKVHgFzzcKHM",
        "outputId": "07a63ede-e39a-49e6-88dd-326d5178d411"
      },
      "source": [
        "properties_ratio.plot(xlabel='Borough', ylabel='Ratio of average house prices', title='Ratio of average house prices in 2021 and 1995', rot=90)\n",
        "plt.show()"
      ],
      "execution_count": null,
      "outputs": [
        {
          "output_type": "display_data",
          "data": {
            "image/png": "[encoded data removed]",
            "text/plain": [
              "<Figure size 432x288 with 1 Axes>"
            ]
          },
          "metadata": {
            "tags": [],
            "needs_background": "light"
          }
        }
      ]
    },
    {
      "cell_type": "markdown",
      "metadata": {
        "id": "NzYUI7FxJpgv"
      },
      "source": [
        "### 4. Conclusion\n",
        "What can you conclude? Type out your conclusion below. \n",
        "\n",
        "Look back at your notebook. Think about how you might summarize what you have done, and prepare a quick presentation on it to your mentor at your next meeting. \n",
        "\n",
        "We hope you enjoyed this practical project. It should have consolidated your data hygiene and pandas skills by looking at a real-world problem involving just the kind of dataset you might encounter as a budding data scientist. Congratulations, and looking forward to seeing you at the next step in the course! "
      ]
    },
    {
      "cell_type": "markdown",
      "metadata": {
        "id": "vhxVwDU8d_SO"
      },
      "source": [
        "Hackney borough has the maximum ratio of avg_price_2021/avg_price_1995 of 9.128484"
      ]
    }
  ]
}